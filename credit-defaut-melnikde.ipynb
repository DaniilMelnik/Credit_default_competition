{
 "cells": [
  {
   "cell_type": "code",
   "execution_count": 1,
   "id": "dental-chinese",
   "metadata": {
    "execution": {
     "iopub.execute_input": "2021-04-10T16:28:12.168728Z",
     "iopub.status.busy": "2021-04-10T16:28:12.167523Z",
     "iopub.status.idle": "2021-04-10T16:28:12.177229Z",
     "shell.execute_reply": "2021-04-10T16:28:12.176184Z"
    },
    "papermill": {
     "duration": 0.07882,
     "end_time": "2021-04-10T16:28:12.177416",
     "exception": false,
     "start_time": "2021-04-10T16:28:12.098596",
     "status": "completed"
    },
    "tags": []
   },
   "outputs": [
    {
     "name": "stdout",
     "output_type": "stream",
     "text": [
      "/kaggle/input/gb-credit-default/sample_submission.csv\n",
      "/kaggle/input/gb-credit-default/train.csv\n",
      "/kaggle/input/gb-credit-default/test.csv\n"
     ]
    }
   ],
   "source": [
    "# This Python 3 environment comes with many helpful analytics libraries installed\n",
    "# It is defined by the kaggle/python Docker image: https://github.com/kaggle/docker-python\n",
    "# For example, here's several helpful packages to load\n",
    "\n",
    "import numpy as np # linear algebra\n",
    "import pandas as pd # data processing, CSV file I/O (e.g. pd.read_csv)\n",
    "\n",
    "# Input data files are available in the read-only \"../input/\" directory\n",
    "# For example, running this (by clicking run or pressing Shift+Enter) will list all files under the input directory\n",
    "\n",
    "import os\n",
    "for dirname, _, filenames in os.walk('/kaggle/input'):\n",
    "    for filename in filenames:\n",
    "        print(os.path.join(dirname, filename))\n",
    "\n",
    "# You can write up to 20GB to the current directory (/kaggle/working/) that gets preserved as output when you create a version using \"Save & Run All\" \n",
    "# You can also write temporary files to /kaggle/temp/, but they won't be saved outside of the current session\n"
   ]
  },
  {
   "cell_type": "markdown",
   "id": "hawaiian-carbon",
   "metadata": {
    "papermill": {
     "duration": 0.062522,
     "end_time": "2021-04-10T16:28:12.303122",
     "exception": false,
     "start_time": "2021-04-10T16:28:12.240600",
     "status": "completed"
    },
    "tags": []
   },
   "source": [
    "**Подключение библиотек, скриптов**"
   ]
  },
  {
   "cell_type": "code",
   "execution_count": 2,
   "id": "single-november",
   "metadata": {
    "execution": {
     "iopub.execute_input": "2021-04-10T16:28:12.437089Z",
     "iopub.status.busy": "2021-04-10T16:28:12.436443Z",
     "iopub.status.idle": "2021-04-10T16:28:12.440108Z",
     "shell.execute_reply": "2021-04-10T16:28:12.439457Z"
    },
    "papermill": {
     "duration": 0.071676,
     "end_time": "2021-04-10T16:28:12.440258",
     "exception": false,
     "start_time": "2021-04-10T16:28:12.368582",
     "status": "completed"
    },
    "tags": []
   },
   "outputs": [],
   "source": [
    "# !pip install xgboost\n",
    "# !pip install lightgbm\n",
    "# !pip install catboost"
   ]
  },
  {
   "cell_type": "code",
   "execution_count": 3,
   "id": "heard-bosnia",
   "metadata": {
    "execution": {
     "iopub.execute_input": "2021-04-10T16:28:12.571085Z",
     "iopub.status.busy": "2021-04-10T16:28:12.570213Z",
     "iopub.status.idle": "2021-04-10T16:28:14.711282Z",
     "shell.execute_reply": "2021-04-10T16:28:14.710497Z"
    },
    "papermill": {
     "duration": 2.209142,
     "end_time": "2021-04-10T16:28:14.711437",
     "exception": false,
     "start_time": "2021-04-10T16:28:12.502295",
     "status": "completed"
    },
    "tags": []
   },
   "outputs": [
    {
     "data": {
      "text/html": [
       "<style type='text/css'>\n",
       ".datatable table.frame { margin-bottom: 0; }\n",
       ".datatable table.frame thead { border-bottom: none; }\n",
       ".datatable table.frame tr.coltypes td {  color: #FFFFFF;  line-height: 6px;  padding: 0 0.5em;}\n",
       ".datatable .bool    { background: #DDDD99; }\n",
       ".datatable .object  { background: #565656; }\n",
       ".datatable .int     { background: #5D9E5D; }\n",
       ".datatable .float   { background: #4040CC; }\n",
       ".datatable .str     { background: #CC4040; }\n",
       ".datatable .row_index {  background: var(--jp-border-color3);  border-right: 1px solid var(--jp-border-color0);  color: var(--jp-ui-font-color3);  font-size: 9px;}\n",
       ".datatable .frame tr.coltypes .row_index {  background: var(--jp-border-color0);}\n",
       ".datatable th:nth-child(2) { padding-left: 12px; }\n",
       ".datatable .hellipsis {  color: var(--jp-cell-editor-border-color);}\n",
       ".datatable .vellipsis {  background: var(--jp-layout-color0);  color: var(--jp-cell-editor-border-color);}\n",
       ".datatable .na {  color: var(--jp-cell-editor-border-color);  font-size: 80%;}\n",
       ".datatable .footer { font-size: 9px; }\n",
       ".datatable .frame_dimensions {  background: var(--jp-border-color3);  border-top: 1px solid var(--jp-border-color0);  color: var(--jp-ui-font-color3);  display: inline-block;  opacity: 0.6;  padding: 1px 10px 1px 5px;}\n",
       "</style>\n"
      ],
      "text/plain": [
       "<IPython.core.display.HTML object>"
      ]
     },
     "metadata": {},
     "output_type": "display_data"
    }
   ],
   "source": [
    "import numpy as np\n",
    "import pandas as pd\n",
    "import matplotlib.pyplot as plt\n",
    "import seaborn as sns\n",
    "\n",
    "from sklearn.model_selection import train_test_split, KFold, GridSearchCV, StratifiedKFold\n",
    "from sklearn.preprocessing import StandardScaler\n",
    "from sklearn.metrics import classification_report, f1_score, precision_score, recall_score\n",
    "from sklearn.ensemble import RandomForestClassifier\n",
    "\n",
    "from sklearn.neighbors import KNeighborsClassifier\n",
    "from sklearn.tree import DecisionTreeClassifier\n",
    "from sklearn.linear_model import LogisticRegression\n",
    "import xgboost as xgb, lightgbm as lgbm, catboost as catb\n",
    "\n",
    "from scipy.stats import (shapiro, \n",
    "                         probplot, \n",
    "                         mannwhitneyu, \n",
    "                         chi2_contingency)\n",
    "\n",
    "import warnings\n",
    "warnings.filterwarnings('ignore')"
   ]
  },
  {
   "cell_type": "code",
   "execution_count": 4,
   "id": "infinite-crazy",
   "metadata": {
    "execution": {
     "iopub.execute_input": "2021-04-10T16:28:14.843336Z",
     "iopub.status.busy": "2021-04-10T16:28:14.842683Z",
     "iopub.status.idle": "2021-04-10T16:28:14.845016Z",
     "shell.execute_reply": "2021-04-10T16:28:14.845463Z"
    },
    "papermill": {
     "duration": 0.070178,
     "end_time": "2021-04-10T16:28:14.845626",
     "exception": false,
     "start_time": "2021-04-10T16:28:14.775448",
     "status": "completed"
    },
    "tags": []
   },
   "outputs": [],
   "source": [
    "def get_classification_report(y_train_true, y_train_pred, y_test_true, y_test_pred):\n",
    "    print('TRAIN\\n\\n' + classification_report(y_train_true, y_train_pred))\n",
    "    print('TEST\\n\\n' + classification_report(y_test_true, y_test_pred))\n",
    "    print('CONFUSION MATRIX\\n')\n",
    "    print(pd.crosstab(y_test_true, y_test_pred))"
   ]
  },
  {
   "cell_type": "code",
   "execution_count": 5,
   "id": "incorporate-district",
   "metadata": {
    "execution": {
     "iopub.execute_input": "2021-04-10T16:28:14.976330Z",
     "iopub.status.busy": "2021-04-10T16:28:14.975723Z",
     "iopub.status.idle": "2021-04-10T16:28:14.980412Z",
     "shell.execute_reply": "2021-04-10T16:28:14.980881Z"
    },
    "papermill": {
     "duration": 0.072947,
     "end_time": "2021-04-10T16:28:14.981060",
     "exception": false,
     "start_time": "2021-04-10T16:28:14.908113",
     "status": "completed"
    },
    "tags": []
   },
   "outputs": [],
   "source": [
    "def evaluate_preds(model, X_train, X_test, y_train, y_test):\n",
    "    y_train_pred = model.predict(X_train)\n",
    "    y_test_pred = model.predict(X_test)\n",
    "    get_classification_report(y_train, y_train_pred, y_test, y_test_pred)"
   ]
  },
  {
   "cell_type": "code",
   "execution_count": 6,
   "id": "prepared-charlotte",
   "metadata": {
    "execution": {
     "iopub.execute_input": "2021-04-10T16:28:15.115961Z",
     "iopub.status.busy": "2021-04-10T16:28:15.115318Z",
     "iopub.status.idle": "2021-04-10T16:28:15.118150Z",
     "shell.execute_reply": "2021-04-10T16:28:15.117693Z"
    },
    "papermill": {
     "duration": 0.074289,
     "end_time": "2021-04-10T16:28:15.118316",
     "exception": false,
     "start_time": "2021-04-10T16:28:15.044027",
     "status": "completed"
    },
    "tags": []
   },
   "outputs": [],
   "source": [
    "def plot_feature_with_target_statisctics(df, FEATURE_NAME, TARGET_NAME):\n",
    "    feature_with_target = df[[FEATURE_NAME, TARGET_NAME]]\n",
    "    feature = feature_with_target[FEATURE_NAME]\n",
    "    feature_with_target_0 = feature[feature_with_target[TARGET_NAME] == 0]\n",
    "    feature_with_target_1 = feature[feature_with_target[TARGET_NAME] == 1]\n",
    "    \n",
    "    print(shapiro(feature))\n",
    "    print(mannwhitneyu(feature_with_target_0, feature_with_target_1))\n",
    "    \n",
    "    fig, (ax1, ax2) = plt.subplots(1,2, figsize = (14, 5))\n",
    "    sns.kdeplot(feature_with_target_0, shade=True, label='нет просрочки', color='g', ax=ax1)\n",
    "    sns.kdeplot(feature_with_target_1, shade=True, label='просрочка', color='r', ax=ax1)\n",
    "    ax1.grid()\n",
    "\n",
    "    sns.pointplot(x=TARGET_NAME, y=FEATURE_NAME, data = feature_with_target, capsize=1, ax=ax2)\n",
    "    ax2.set_title('Confidence interval (95%)')\n",
    "    ax2.grid()\n",
    "    plt.show()"
   ]
  },
  {
   "cell_type": "code",
   "execution_count": 7,
   "id": "christian-inventory",
   "metadata": {
    "execution": {
     "iopub.execute_input": "2021-04-10T16:28:15.250260Z",
     "iopub.status.busy": "2021-04-10T16:28:15.249630Z",
     "iopub.status.idle": "2021-04-10T16:28:15.253300Z",
     "shell.execute_reply": "2021-04-10T16:28:15.252682Z"
    },
    "papermill": {
     "duration": 0.071505,
     "end_time": "2021-04-10T16:28:15.253439",
     "exception": false,
     "start_time": "2021-04-10T16:28:15.181934",
     "status": "completed"
    },
    "tags": []
   },
   "outputs": [],
   "source": [
    "TRAIN_DATASET_PATH = '/kaggle/input/gb-credit-default/train.csv'\n",
    "TEST_DATASET_PATH = '/kaggle/input/gb-credit-default/test.csv'"
   ]
  },
  {
   "cell_type": "markdown",
   "id": "short-force",
   "metadata": {
    "papermill": {
     "duration": 0.062875,
     "end_time": "2021-04-10T16:28:15.378913",
     "exception": false,
     "start_time": "2021-04-10T16:28:15.316038",
     "status": "completed"
    },
    "tags": []
   },
   "source": [
    "## Загрузка данных\n",
    "### Описание датасета\n",
    "\n",
    "* Home Ownership - домовладение\n",
    "* Annual Income - годовой доход\n",
    "* Years in current job - количество лет на текущем месте работы\n",
    "* Tax Liens - налоговые обременения\n",
    "* Number of Open Accounts - количество открытых счетов\n",
    "* Years of Credit History - количество лет кредитной истории\n",
    "* Maximum Open Credit - наибольший открытый кредит (максимальная сумма, которая когда-либо была доступна клиенту)\n",
    "* Number of Credit Problems - количество проблем с кредитом\n",
    "* Months since last delinquent - количество месяцев с последней просрочки платежа\n",
    "* Bankruptcies - банкротства\n",
    "* Purpose - цель кредита\n",
    "* Term - срок кредита\n",
    "* Current Loan Amount - текущая сумма кредита (сумма, которую еще предстоит выплатить клиенту)\n",
    "* Current Credit Balance - текущий кредитный баланс (сумма, которую может тратить клиент с кредитного счета)\n",
    "* Monthly Debt - ежемесячный долг\n",
    "* Credit Score - баллы кредитного рейтинга\n",
    "* Credit Default - факт невыполнения кредитных обязательств (0 - погашен вовремя, 1 - просрочка)"
   ]
  },
  {
   "cell_type": "code",
   "execution_count": 8,
   "id": "handmade-collect",
   "metadata": {
    "execution": {
     "iopub.execute_input": "2021-04-10T16:28:15.508402Z",
     "iopub.status.busy": "2021-04-10T16:28:15.507689Z",
     "iopub.status.idle": "2021-04-10T16:28:15.573669Z",
     "shell.execute_reply": "2021-04-10T16:28:15.574256Z"
    },
    "papermill": {
     "duration": 0.132305,
     "end_time": "2021-04-10T16:28:15.574464",
     "exception": false,
     "start_time": "2021-04-10T16:28:15.442159",
     "status": "completed"
    },
    "tags": []
   },
   "outputs": [],
   "source": [
    "df_train = pd.read_csv(TRAIN_DATASET_PATH, sep=\",\")\n",
    "df_test = pd.read_csv(TEST_DATASET_PATH, sep=\",\")"
   ]
  },
  {
   "cell_type": "markdown",
   "id": "linear-extension",
   "metadata": {
    "papermill": {
     "duration": 0.064147,
     "end_time": "2021-04-10T16:28:15.702514",
     "exception": false,
     "start_time": "2021-04-10T16:28:15.638367",
     "status": "completed"
    },
    "tags": []
   },
   "source": [
    "# Предварительный, общий анализ данных"
   ]
  },
  {
   "cell_type": "code",
   "execution_count": 9,
   "id": "polished-fifty",
   "metadata": {
    "execution": {
     "iopub.execute_input": "2021-04-10T16:28:15.832483Z",
     "iopub.status.busy": "2021-04-10T16:28:15.831778Z",
     "iopub.status.idle": "2021-04-10T16:28:15.865027Z",
     "shell.execute_reply": "2021-04-10T16:28:15.865510Z"
    },
    "papermill": {
     "duration": 0.100004,
     "end_time": "2021-04-10T16:28:15.865719",
     "exception": false,
     "start_time": "2021-04-10T16:28:15.765715",
     "status": "completed"
    },
    "tags": []
   },
   "outputs": [
    {
     "name": "stdout",
     "output_type": "stream",
     "text": [
      "<class 'pandas.core.frame.DataFrame'>\n",
      "RangeIndex: 7500 entries, 0 to 7499\n",
      "Data columns (total 17 columns):\n",
      " #   Column                        Non-Null Count  Dtype  \n",
      "---  ------                        --------------  -----  \n",
      " 0   Home Ownership                7500 non-null   object \n",
      " 1   Annual Income                 5943 non-null   float64\n",
      " 2   Years in current job          7129 non-null   object \n",
      " 3   Tax Liens                     7500 non-null   float64\n",
      " 4   Number of Open Accounts       7500 non-null   float64\n",
      " 5   Years of Credit History       7500 non-null   float64\n",
      " 6   Maximum Open Credit           7500 non-null   float64\n",
      " 7   Number of Credit Problems     7500 non-null   float64\n",
      " 8   Months since last delinquent  3419 non-null   float64\n",
      " 9   Bankruptcies                  7486 non-null   float64\n",
      " 10  Purpose                       7500 non-null   object \n",
      " 11  Term                          7500 non-null   object \n",
      " 12  Current Loan Amount           7500 non-null   float64\n",
      " 13  Current Credit Balance        7500 non-null   float64\n",
      " 14  Monthly Debt                  7500 non-null   float64\n",
      " 15  Credit Score                  5943 non-null   float64\n",
      " 16  Credit Default                7500 non-null   int64  \n",
      "dtypes: float64(12), int64(1), object(4)\n",
      "memory usage: 996.2+ KB\n"
     ]
    }
   ],
   "source": [
    "df_train.info()"
   ]
  },
  {
   "cell_type": "code",
   "execution_count": 10,
   "id": "enclosed-climate",
   "metadata": {
    "execution": {
     "iopub.execute_input": "2021-04-10T16:28:15.997451Z",
     "iopub.status.busy": "2021-04-10T16:28:15.996792Z",
     "iopub.status.idle": "2021-04-10T16:28:16.008288Z",
     "shell.execute_reply": "2021-04-10T16:28:16.007491Z"
    },
    "papermill": {
     "duration": 0.079056,
     "end_time": "2021-04-10T16:28:16.008448",
     "exception": false,
     "start_time": "2021-04-10T16:28:15.929392",
     "status": "completed"
    },
    "tags": []
   },
   "outputs": [
    {
     "data": {
      "text/plain": [
       "Home Ownership                     0\n",
       "Annual Income                   1557\n",
       "Years in current job             371\n",
       "Tax Liens                          0\n",
       "Number of Open Accounts            0\n",
       "Years of Credit History            0\n",
       "Maximum Open Credit                0\n",
       "Number of Credit Problems          0\n",
       "Months since last delinquent    4081\n",
       "Bankruptcies                      14\n",
       "Purpose                            0\n",
       "Term                               0\n",
       "Current Loan Amount                0\n",
       "Current Credit Balance             0\n",
       "Monthly Debt                       0\n",
       "Credit Score                    1557\n",
       "Credit Default                     0\n",
       "dtype: int64"
      ]
     },
     "execution_count": 10,
     "metadata": {},
     "output_type": "execute_result"
    }
   ],
   "source": [
    "df_train.isna().sum()"
   ]
  },
  {
   "cell_type": "code",
   "execution_count": 11,
   "id": "confident-heather",
   "metadata": {
    "execution": {
     "iopub.execute_input": "2021-04-10T16:28:16.140130Z",
     "iopub.status.busy": "2021-04-10T16:28:16.139541Z",
     "iopub.status.idle": "2021-04-10T16:28:16.197305Z",
     "shell.execute_reply": "2021-04-10T16:28:16.197782Z"
    },
    "papermill": {
     "duration": 0.125022,
     "end_time": "2021-04-10T16:28:16.197950",
     "exception": false,
     "start_time": "2021-04-10T16:28:16.072928",
     "status": "completed"
    },
    "tags": []
   },
   "outputs": [
    {
     "data": {
      "text/html": [
       "<div>\n",
       "<style scoped>\n",
       "    .dataframe tbody tr th:only-of-type {\n",
       "        vertical-align: middle;\n",
       "    }\n",
       "\n",
       "    .dataframe tbody tr th {\n",
       "        vertical-align: top;\n",
       "    }\n",
       "\n",
       "    .dataframe thead th {\n",
       "        text-align: right;\n",
       "    }\n",
       "</style>\n",
       "<table border=\"1\" class=\"dataframe\">\n",
       "  <thead>\n",
       "    <tr style=\"text-align: right;\">\n",
       "      <th></th>\n",
       "      <th>Annual Income</th>\n",
       "      <th>Tax Liens</th>\n",
       "      <th>Number of Open Accounts</th>\n",
       "      <th>Years of Credit History</th>\n",
       "      <th>Maximum Open Credit</th>\n",
       "      <th>Number of Credit Problems</th>\n",
       "      <th>Months since last delinquent</th>\n",
       "      <th>Bankruptcies</th>\n",
       "      <th>Current Loan Amount</th>\n",
       "      <th>Current Credit Balance</th>\n",
       "      <th>Monthly Debt</th>\n",
       "      <th>Credit Score</th>\n",
       "      <th>Credit Default</th>\n",
       "    </tr>\n",
       "  </thead>\n",
       "  <tbody>\n",
       "    <tr>\n",
       "      <th>count</th>\n",
       "      <td>5.943000e+03</td>\n",
       "      <td>7500.000000</td>\n",
       "      <td>7500.000000</td>\n",
       "      <td>7500.000000</td>\n",
       "      <td>7.500000e+03</td>\n",
       "      <td>7500.000000</td>\n",
       "      <td>3419.000000</td>\n",
       "      <td>7486.000000</td>\n",
       "      <td>7.500000e+03</td>\n",
       "      <td>7.500000e+03</td>\n",
       "      <td>7500.000000</td>\n",
       "      <td>5943.000000</td>\n",
       "      <td>7500.000000</td>\n",
       "    </tr>\n",
       "    <tr>\n",
       "      <th>mean</th>\n",
       "      <td>1.366392e+06</td>\n",
       "      <td>0.030133</td>\n",
       "      <td>11.130933</td>\n",
       "      <td>18.317467</td>\n",
       "      <td>9.451537e+05</td>\n",
       "      <td>0.170000</td>\n",
       "      <td>34.692600</td>\n",
       "      <td>0.117152</td>\n",
       "      <td>1.187318e+07</td>\n",
       "      <td>2.898332e+05</td>\n",
       "      <td>18314.454133</td>\n",
       "      <td>1151.087498</td>\n",
       "      <td>0.281733</td>\n",
       "    </tr>\n",
       "    <tr>\n",
       "      <th>std</th>\n",
       "      <td>8.453392e+05</td>\n",
       "      <td>0.271604</td>\n",
       "      <td>4.908924</td>\n",
       "      <td>7.041946</td>\n",
       "      <td>1.602622e+07</td>\n",
       "      <td>0.498598</td>\n",
       "      <td>21.688806</td>\n",
       "      <td>0.347192</td>\n",
       "      <td>3.192612e+07</td>\n",
       "      <td>3.178714e+05</td>\n",
       "      <td>11926.764673</td>\n",
       "      <td>1604.451418</td>\n",
       "      <td>0.449874</td>\n",
       "    </tr>\n",
       "    <tr>\n",
       "      <th>min</th>\n",
       "      <td>1.645970e+05</td>\n",
       "      <td>0.000000</td>\n",
       "      <td>2.000000</td>\n",
       "      <td>4.000000</td>\n",
       "      <td>0.000000e+00</td>\n",
       "      <td>0.000000</td>\n",
       "      <td>0.000000</td>\n",
       "      <td>0.000000</td>\n",
       "      <td>1.124200e+04</td>\n",
       "      <td>0.000000e+00</td>\n",
       "      <td>0.000000</td>\n",
       "      <td>585.000000</td>\n",
       "      <td>0.000000</td>\n",
       "    </tr>\n",
       "    <tr>\n",
       "      <th>25%</th>\n",
       "      <td>8.443410e+05</td>\n",
       "      <td>0.000000</td>\n",
       "      <td>8.000000</td>\n",
       "      <td>13.500000</td>\n",
       "      <td>2.792295e+05</td>\n",
       "      <td>0.000000</td>\n",
       "      <td>16.000000</td>\n",
       "      <td>0.000000</td>\n",
       "      <td>1.801690e+05</td>\n",
       "      <td>1.142565e+05</td>\n",
       "      <td>10067.500000</td>\n",
       "      <td>711.000000</td>\n",
       "      <td>0.000000</td>\n",
       "    </tr>\n",
       "    <tr>\n",
       "      <th>50%</th>\n",
       "      <td>1.168386e+06</td>\n",
       "      <td>0.000000</td>\n",
       "      <td>10.000000</td>\n",
       "      <td>17.000000</td>\n",
       "      <td>4.781590e+05</td>\n",
       "      <td>0.000000</td>\n",
       "      <td>32.000000</td>\n",
       "      <td>0.000000</td>\n",
       "      <td>3.095730e+05</td>\n",
       "      <td>2.093230e+05</td>\n",
       "      <td>16076.500000</td>\n",
       "      <td>731.000000</td>\n",
       "      <td>0.000000</td>\n",
       "    </tr>\n",
       "    <tr>\n",
       "      <th>75%</th>\n",
       "      <td>1.640137e+06</td>\n",
       "      <td>0.000000</td>\n",
       "      <td>14.000000</td>\n",
       "      <td>21.800000</td>\n",
       "      <td>7.935015e+05</td>\n",
       "      <td>0.000000</td>\n",
       "      <td>50.000000</td>\n",
       "      <td>0.000000</td>\n",
       "      <td>5.198820e+05</td>\n",
       "      <td>3.604062e+05</td>\n",
       "      <td>23818.000000</td>\n",
       "      <td>743.000000</td>\n",
       "      <td>1.000000</td>\n",
       "    </tr>\n",
       "    <tr>\n",
       "      <th>max</th>\n",
       "      <td>1.014934e+07</td>\n",
       "      <td>7.000000</td>\n",
       "      <td>43.000000</td>\n",
       "      <td>57.700000</td>\n",
       "      <td>1.304726e+09</td>\n",
       "      <td>7.000000</td>\n",
       "      <td>118.000000</td>\n",
       "      <td>4.000000</td>\n",
       "      <td>1.000000e+08</td>\n",
       "      <td>6.506797e+06</td>\n",
       "      <td>136679.000000</td>\n",
       "      <td>7510.000000</td>\n",
       "      <td>1.000000</td>\n",
       "    </tr>\n",
       "  </tbody>\n",
       "</table>\n",
       "</div>"
      ],
      "text/plain": [
       "       Annual Income    Tax Liens  Number of Open Accounts  \\\n",
       "count   5.943000e+03  7500.000000              7500.000000   \n",
       "mean    1.366392e+06     0.030133                11.130933   \n",
       "std     8.453392e+05     0.271604                 4.908924   \n",
       "min     1.645970e+05     0.000000                 2.000000   \n",
       "25%     8.443410e+05     0.000000                 8.000000   \n",
       "50%     1.168386e+06     0.000000                10.000000   \n",
       "75%     1.640137e+06     0.000000                14.000000   \n",
       "max     1.014934e+07     7.000000                43.000000   \n",
       "\n",
       "       Years of Credit History  Maximum Open Credit  \\\n",
       "count              7500.000000         7.500000e+03   \n",
       "mean                 18.317467         9.451537e+05   \n",
       "std                   7.041946         1.602622e+07   \n",
       "min                   4.000000         0.000000e+00   \n",
       "25%                  13.500000         2.792295e+05   \n",
       "50%                  17.000000         4.781590e+05   \n",
       "75%                  21.800000         7.935015e+05   \n",
       "max                  57.700000         1.304726e+09   \n",
       "\n",
       "       Number of Credit Problems  Months since last delinquent  Bankruptcies  \\\n",
       "count                7500.000000                   3419.000000   7486.000000   \n",
       "mean                    0.170000                     34.692600      0.117152   \n",
       "std                     0.498598                     21.688806      0.347192   \n",
       "min                     0.000000                      0.000000      0.000000   \n",
       "25%                     0.000000                     16.000000      0.000000   \n",
       "50%                     0.000000                     32.000000      0.000000   \n",
       "75%                     0.000000                     50.000000      0.000000   \n",
       "max                     7.000000                    118.000000      4.000000   \n",
       "\n",
       "       Current Loan Amount  Current Credit Balance   Monthly Debt  \\\n",
       "count         7.500000e+03            7.500000e+03    7500.000000   \n",
       "mean          1.187318e+07            2.898332e+05   18314.454133   \n",
       "std           3.192612e+07            3.178714e+05   11926.764673   \n",
       "min           1.124200e+04            0.000000e+00       0.000000   \n",
       "25%           1.801690e+05            1.142565e+05   10067.500000   \n",
       "50%           3.095730e+05            2.093230e+05   16076.500000   \n",
       "75%           5.198820e+05            3.604062e+05   23818.000000   \n",
       "max           1.000000e+08            6.506797e+06  136679.000000   \n",
       "\n",
       "       Credit Score  Credit Default  \n",
       "count   5943.000000     7500.000000  \n",
       "mean    1151.087498        0.281733  \n",
       "std     1604.451418        0.449874  \n",
       "min      585.000000        0.000000  \n",
       "25%      711.000000        0.000000  \n",
       "50%      731.000000        0.000000  \n",
       "75%      743.000000        1.000000  \n",
       "max     7510.000000        1.000000  "
      ]
     },
     "execution_count": 11,
     "metadata": {},
     "output_type": "execute_result"
    }
   ],
   "source": [
    "df_train.describe()"
   ]
  },
  {
   "cell_type": "markdown",
   "id": "analyzed-dealing",
   "metadata": {
    "papermill": {
     "duration": 0.063668,
     "end_time": "2021-04-10T16:28:16.325331",
     "exception": false,
     "start_time": "2021-04-10T16:28:16.261663",
     "status": "completed"
    },
    "tags": []
   },
   "source": [
    "Некоторые признаки имеют достаточно большое количество пропусков, также по разнице среднего и медианы по всем признакам имеются большие (потенциально выбросные) значения"
   ]
  },
  {
   "cell_type": "code",
   "execution_count": 12,
   "id": "undefined-majority",
   "metadata": {
    "execution": {
     "iopub.execute_input": "2021-04-10T16:28:16.456392Z",
     "iopub.status.busy": "2021-04-10T16:28:16.455787Z",
     "iopub.status.idle": "2021-04-10T16:28:16.462571Z",
     "shell.execute_reply": "2021-04-10T16:28:16.461893Z"
    },
    "papermill": {
     "duration": 0.073298,
     "end_time": "2021-04-10T16:28:16.462721",
     "exception": false,
     "start_time": "2021-04-10T16:28:16.389423",
     "status": "completed"
    },
    "tags": []
   },
   "outputs": [],
   "source": [
    "NUM_FEATURE_NAMES = ['Annual Income', 'Tax Liens', 'Number of Open Accounts', 'Years of Credit History',\n",
    "                    'Maximum Open Credit', 'Number of Credit Problems', 'Bankruptcies', 'Current Loan Amount',\n",
    "                    'Current Credit Balance', 'Monthly Debt', 'Credit Score']\n",
    "CAT_FEATURE_NAMES = ['Term', 'Years in current job', 'Home Ownership', 'Purpose']\n",
    "TARGET_NAME = 'Credit Default'\n",
    "BASE_FEATURE_NAMES = NUM_FEATURE_NAMES + CAT_FEATURE_NAMES"
   ]
  },
  {
   "cell_type": "markdown",
   "id": "infrared-tours",
   "metadata": {
    "papermill": {
     "duration": 0.06378,
     "end_time": "2021-04-10T16:28:16.591312",
     "exception": false,
     "start_time": "2021-04-10T16:28:16.527532",
     "status": "completed"
    },
    "tags": []
   },
   "source": [
    "## Целевая переменная"
   ]
  },
  {
   "cell_type": "code",
   "execution_count": 13,
   "id": "worth-astrology",
   "metadata": {
    "execution": {
     "iopub.execute_input": "2021-04-10T16:28:16.730401Z",
     "iopub.status.busy": "2021-04-10T16:28:16.729354Z",
     "iopub.status.idle": "2021-04-10T16:28:16.734427Z",
     "shell.execute_reply": "2021-04-10T16:28:16.733779Z"
    },
    "papermill": {
     "duration": 0.078775,
     "end_time": "2021-04-10T16:28:16.734576",
     "exception": false,
     "start_time": "2021-04-10T16:28:16.655801",
     "status": "completed"
    },
    "tags": []
   },
   "outputs": [
    {
     "data": {
      "text/plain": [
       "0    5387\n",
       "1    2113\n",
       "Name: Credit Default, dtype: int64"
      ]
     },
     "execution_count": 13,
     "metadata": {},
     "output_type": "execute_result"
    }
   ],
   "source": [
    "df_train['Credit Default'].value_counts()"
   ]
  },
  {
   "cell_type": "markdown",
   "id": "viral-lobby",
   "metadata": {
    "papermill": {
     "duration": 0.066759,
     "end_time": "2021-04-10T16:28:16.871188",
     "exception": false,
     "start_time": "2021-04-10T16:28:16.804429",
     "status": "completed"
    },
    "tags": []
   },
   "source": [
    "Дисбаланс классов приблизительно в 2,5 раза"
   ]
  },
  {
   "cell_type": "markdown",
   "id": "amazing-snapshot",
   "metadata": {
    "papermill": {
     "duration": 0.069415,
     "end_time": "2021-04-10T16:28:17.009995",
     "exception": false,
     "start_time": "2021-04-10T16:28:16.940580",
     "status": "completed"
    },
    "tags": []
   },
   "source": [
    "## Категориальные признаки"
   ]
  },
  {
   "cell_type": "code",
   "execution_count": 14,
   "id": "psychological-upper",
   "metadata": {
    "execution": {
     "iopub.execute_input": "2021-04-10T16:28:17.161640Z",
     "iopub.status.busy": "2021-04-10T16:28:17.161024Z",
     "iopub.status.idle": "2021-04-10T16:28:17.164907Z",
     "shell.execute_reply": "2021-04-10T16:28:17.164291Z"
    },
    "papermill": {
     "duration": 0.085011,
     "end_time": "2021-04-10T16:28:17.165051",
     "exception": false,
     "start_time": "2021-04-10T16:28:17.080040",
     "status": "completed"
    },
    "tags": []
   },
   "outputs": [
    {
     "name": "stdout",
     "output_type": "stream",
     "text": [
      "Home Ownership\n",
      "\n",
      "Home Mortgage    3637\n",
      "Rent             3204\n",
      "Own Home          647\n",
      "Have Mortgage      12\n",
      "Name: Home Ownership, dtype: int64\n",
      "****************************************************************************************************\n",
      "\n",
      "Years in current job\n",
      "\n",
      "10+ years    2332\n",
      "2 years       705\n",
      "3 years       620\n",
      "< 1 year      563\n",
      "5 years       516\n",
      "1 year        504\n",
      "4 years       469\n",
      "6 years       426\n",
      "7 years       396\n",
      "8 years       339\n",
      "9 years       259\n",
      "Name: Years in current job, dtype: int64\n",
      "****************************************************************************************************\n",
      "\n",
      "Purpose\n",
      "\n",
      "debt consolidation      5944\n",
      "other                    665\n",
      "home improvements        412\n",
      "business loan            129\n",
      "buy a car                 96\n",
      "medical bills             71\n",
      "major purchase            40\n",
      "take a trip               37\n",
      "buy house                 34\n",
      "small business            26\n",
      "wedding                   15\n",
      "moving                    11\n",
      "educational expenses      10\n",
      "vacation                   8\n",
      "renewable energy           2\n",
      "Name: Purpose, dtype: int64\n",
      "****************************************************************************************************\n",
      "\n",
      "Term\n",
      "\n",
      "Short Term    5556\n",
      "Long Term     1944\n",
      "Name: Term, dtype: int64\n",
      "****************************************************************************************************\n",
      "\n"
     ]
    }
   ],
   "source": [
    "for col in df_train.select_dtypes(include='object').columns:\n",
    "    print(str(col) + '\\n\\n' + str(df_train[col].value_counts()) + '\\n' + '*' * 100 + '\\n')"
   ]
  },
  {
   "cell_type": "markdown",
   "id": "united-wilderness",
   "metadata": {
    "papermill": {
     "duration": 0.065905,
     "end_time": "2021-04-10T16:28:17.297994",
     "exception": false,
     "start_time": "2021-04-10T16:28:17.232089",
     "status": "completed"
    },
    "tags": []
   },
   "source": [
    "Признаки Home Ownership и Term можно преставить в ввиде dummy переменных.\n",
    "Years in current job можно преобразовать в числовой вид.\n",
    "Признак Purpose стоит проверить на возможность объединения категорий"
   ]
  },
  {
   "cell_type": "markdown",
   "id": "alive-raising",
   "metadata": {
    "papermill": {
     "duration": 0.065333,
     "end_time": "2021-04-10T16:28:17.429316",
     "exception": false,
     "start_time": "2021-04-10T16:28:17.363983",
     "status": "completed"
    },
    "tags": []
   },
   "source": [
    "## Корреляция числовых признаков с целевой переменной"
   ]
  },
  {
   "cell_type": "code",
   "execution_count": 15,
   "id": "suburban-portugal",
   "metadata": {
    "execution": {
     "iopub.execute_input": "2021-04-10T16:28:17.592586Z",
     "iopub.status.busy": "2021-04-10T16:28:17.568991Z",
     "iopub.status.idle": "2021-04-10T16:28:17.836442Z",
     "shell.execute_reply": "2021-04-10T16:28:17.835473Z"
    },
    "papermill": {
     "duration": 0.339242,
     "end_time": "2021-04-10T16:28:17.836619",
     "exception": false,
     "start_time": "2021-04-10T16:28:17.497377",
     "status": "completed"
    },
    "tags": []
   },
   "outputs": [
    {
     "data": {
      "image/png": "[encoded data removed]",
      "text/plain": [
       "<Figure size 720x576 with 1 Axes>"
      ]
     },
     "metadata": {
      "needs_background": "light"
     },
     "output_type": "display_data"
    }
   ],
   "source": [
    "corr_with_target = df_train.corr().iloc[:-1, -1].sort_values(ascending=False)\n",
    "plt.figure(figsize=(10, 8))\n",
    "sns.barplot(x=corr_with_target.values, y=corr_with_target.index)\n",
    "plt.show()"
   ]
  },
  {
   "cell_type": "markdown",
   "id": "empty-greek",
   "metadata": {
    "papermill": {
     "duration": 0.085199,
     "end_time": "2021-04-10T16:28:17.990017",
     "exception": false,
     "start_time": "2021-04-10T16:28:17.904818",
     "status": "completed"
    },
    "tags": []
   },
   "source": [
    "Наиболее линейно скоррелированные признаки: Credit Score, Annual income, Current Loan Amount"
   ]
  },
  {
   "cell_type": "markdown",
   "id": "million-designer",
   "metadata": {
    "papermill": {
     "duration": 0.093279,
     "end_time": "2021-04-10T16:28:18.158953",
     "exception": false,
     "start_time": "2021-04-10T16:28:18.065674",
     "status": "completed"
    },
    "tags": []
   },
   "source": [
    "## Матрица корреляций"
   ]
  },
  {
   "cell_type": "code",
   "execution_count": 16,
   "id": "comfortable-desperate",
   "metadata": {
    "execution": {
     "iopub.execute_input": "2021-04-10T16:28:18.302991Z",
     "iopub.status.busy": "2021-04-10T16:28:18.302147Z",
     "iopub.status.idle": "2021-04-10T16:28:19.379613Z",
     "shell.execute_reply": "2021-04-10T16:28:19.380061Z"
    },
    "papermill": {
     "duration": 1.152373,
     "end_time": "2021-04-10T16:28:19.380246",
     "exception": false,
     "start_time": "2021-04-10T16:28:18.227873",
     "status": "completed"
    },
    "tags": []
   },
   "outputs": [
    {
     "data": {
      "image/png": "[encoded data removed]",
      "text/plain": [
       "<Figure size 1080x720 with 2 Axes>"
      ]
     },
     "metadata": {
      "needs_background": "light"
     },
     "output_type": "display_data"
    }
   ],
   "source": [
    "plt.figure(figsize=(15,10))\n",
    "corr_matrix = df_train.corr()\n",
    "corr_matrix = np.round(corr_matrix, 2)\n",
    "corr_matrix[np.abs(corr_matrix) < 0.3] = 0\n",
    "\n",
    "sns.heatmap(corr_matrix, annot=True, linewidth=0.5, cmap='GnBu')\n",
    "plt.title('Correlation matrix')\n",
    "plt.show()"
   ]
  },
  {
   "cell_type": "markdown",
   "id": "proud-packet",
   "metadata": {
    "papermill": {
     "duration": 0.069102,
     "end_time": "2021-04-10T16:28:19.518597",
     "exception": false,
     "start_time": "2021-04-10T16:28:19.449495",
     "status": "completed"
    },
    "tags": []
   },
   "source": [
    "Существуют достаточно сильно скоррелированные признаки, что нужно учитывать при обучении линейных моделей"
   ]
  },
  {
   "cell_type": "markdown",
   "id": "technical-relief",
   "metadata": {
    "papermill": {
     "duration": 0.067683,
     "end_time": "2021-04-10T16:28:19.655746",
     "exception": false,
     "start_time": "2021-04-10T16:28:19.588063",
     "status": "completed"
    },
    "tags": []
   },
   "source": [
    "# Сходство распределений на тренировочном и тестовом наборах данных"
   ]
  },
  {
   "cell_type": "code",
   "execution_count": 17,
   "id": "alike-isolation",
   "metadata": {
    "execution": {
     "iopub.execute_input": "2021-04-10T16:28:19.800071Z",
     "iopub.status.busy": "2021-04-10T16:28:19.799389Z",
     "iopub.status.idle": "2021-04-10T16:28:19.862197Z",
     "shell.execute_reply": "2021-04-10T16:28:19.861570Z"
    },
    "papermill": {
     "duration": 0.137059,
     "end_time": "2021-04-10T16:28:19.862337",
     "exception": false,
     "start_time": "2021-04-10T16:28:19.725278",
     "status": "completed"
    },
    "tags": []
   },
   "outputs": [
    {
     "data": {
      "text/html": [
       "<div>\n",
       "<style scoped>\n",
       "    .dataframe tbody tr th:only-of-type {\n",
       "        vertical-align: middle;\n",
       "    }\n",
       "\n",
       "    .dataframe tbody tr th {\n",
       "        vertical-align: top;\n",
       "    }\n",
       "\n",
       "    .dataframe thead th {\n",
       "        text-align: right;\n",
       "    }\n",
       "</style>\n",
       "<table border=\"1\" class=\"dataframe\">\n",
       "  <thead>\n",
       "    <tr style=\"text-align: right;\">\n",
       "      <th></th>\n",
       "      <th>name</th>\n",
       "      <th>p-value</th>\n",
       "    </tr>\n",
       "  </thead>\n",
       "  <tbody>\n",
       "    <tr>\n",
       "      <th>0</th>\n",
       "      <td>Annual Income</td>\n",
       "      <td>0.459082</td>\n",
       "    </tr>\n",
       "    <tr>\n",
       "      <th>1</th>\n",
       "      <td>Tax Liens</td>\n",
       "      <td>0.098369</td>\n",
       "    </tr>\n",
       "    <tr>\n",
       "      <th>2</th>\n",
       "      <td>Number of Open Accounts</td>\n",
       "      <td>0.221426</td>\n",
       "    </tr>\n",
       "    <tr>\n",
       "      <th>3</th>\n",
       "      <td>Years of Credit History</td>\n",
       "      <td>0.388695</td>\n",
       "    </tr>\n",
       "    <tr>\n",
       "      <th>4</th>\n",
       "      <td>Maximum Open Credit</td>\n",
       "      <td>0.383222</td>\n",
       "    </tr>\n",
       "    <tr>\n",
       "      <th>5</th>\n",
       "      <td>Number of Credit Problems</td>\n",
       "      <td>0.141958</td>\n",
       "    </tr>\n",
       "    <tr>\n",
       "      <th>6</th>\n",
       "      <td>Bankruptcies</td>\n",
       "      <td>0.036682</td>\n",
       "    </tr>\n",
       "    <tr>\n",
       "      <th>7</th>\n",
       "      <td>Current Loan Amount</td>\n",
       "      <td>0.123174</td>\n",
       "    </tr>\n",
       "    <tr>\n",
       "      <th>8</th>\n",
       "      <td>Current Credit Balance</td>\n",
       "      <td>0.371615</td>\n",
       "    </tr>\n",
       "    <tr>\n",
       "      <th>9</th>\n",
       "      <td>Monthly Debt</td>\n",
       "      <td>0.243695</td>\n",
       "    </tr>\n",
       "    <tr>\n",
       "      <th>10</th>\n",
       "      <td>Credit Score</td>\n",
       "      <td>0.450916</td>\n",
       "    </tr>\n",
       "  </tbody>\n",
       "</table>\n",
       "</div>"
      ],
      "text/plain": [
       "                         name   p-value\n",
       "0               Annual Income  0.459082\n",
       "1                   Tax Liens  0.098369\n",
       "2     Number of Open Accounts  0.221426\n",
       "3     Years of Credit History  0.388695\n",
       "4         Maximum Open Credit  0.383222\n",
       "5   Number of Credit Problems  0.141958\n",
       "6                Bankruptcies  0.036682\n",
       "7         Current Loan Amount  0.123174\n",
       "8      Current Credit Balance  0.371615\n",
       "9                Monthly Debt  0.243695\n",
       "10               Credit Score  0.450916"
      ]
     },
     "execution_count": 17,
     "metadata": {},
     "output_type": "execute_result"
    }
   ],
   "source": [
    "train_test_mannwhitneyu = pd.DataFrame()\n",
    "for col in NUM_FEATURE_NAMES:\n",
    "    train_test_mannwhitneyu = train_test_mannwhitneyu.append({'name': col, 'p-value': mannwhitneyu(df_train[col], df_test[col]).pvalue}\n",
    "                                                             , ignore_index=True)\n",
    "train_test_mannwhitneyu"
   ]
  },
  {
   "cell_type": "markdown",
   "id": "available-karma",
   "metadata": {
    "papermill": {
     "duration": 0.068766,
     "end_time": "2021-04-10T16:28:20.001486",
     "exception": false,
     "start_time": "2021-04-10T16:28:19.932720",
     "status": "completed"
    },
    "tags": []
   },
   "source": [
    "* Уровень значимости по критерию Манна-Уитни для признака Bankrepticies меньше 0.05. Также достаточно низкие уровни значимости по признакам Tax Liens и Current Loan Ammount\n",
    "* По остальным признакам в целом распределение на тесте похоже на трейн\n",
    "* Таким образом признак Bankruptcies стоит попробовать исключить из модели, Остальные признаки следует рассмотреть подробнее."
   ]
  },
  {
   "cell_type": "markdown",
   "id": "bored-criminal",
   "metadata": {
    "papermill": {
     "duration": 0.06887,
     "end_time": "2021-04-10T16:28:20.139494",
     "exception": false,
     "start_time": "2021-04-10T16:28:20.070624",
     "status": "completed"
    },
    "tags": []
   },
   "source": [
    "### Категориальные признаки"
   ]
  },
  {
   "cell_type": "markdown",
   "id": "professional-reservation",
   "metadata": {
    "papermill": {
     "duration": 0.068513,
     "end_time": "2021-04-10T16:28:20.277008",
     "exception": false,
     "start_time": "2021-04-10T16:28:20.208495",
     "status": "completed"
    },
    "tags": []
   },
   "source": [
    "Оценим сходство категориальных признаков на тренировочном и тестовом наборах данных с наиболее скоррелированными признаками Annual Income и Credit Score"
   ]
  },
  {
   "cell_type": "code",
   "execution_count": 18,
   "id": "modified-newspaper",
   "metadata": {
    "execution": {
     "iopub.execute_input": "2021-04-10T16:28:20.438785Z",
     "iopub.status.busy": "2021-04-10T16:28:20.437830Z",
     "iopub.status.idle": "2021-04-10T16:28:26.018286Z",
     "shell.execute_reply": "2021-04-10T16:28:26.017794Z"
    },
    "papermill": {
     "duration": 5.672523,
     "end_time": "2021-04-10T16:28:26.018417",
     "exception": false,
     "start_time": "2021-04-10T16:28:20.345894",
     "status": "completed"
    },
    "tags": []
   },
   "outputs": [
    {
     "data": {
      "image/png": "[encoded data removed]",
      "text/plain": [
       "<Figure size 864x360 with 2 Axes>"
      ]
     },
     "metadata": {
      "needs_background": "light"
     },
     "output_type": "display_data"
    },
    {
     "data": {
      "image/png": "[encoded data removed]",
      "text/plain": [
       "<Figure size 864x360 with 2 Axes>"
      ]
     },
     "metadata": {
      "needs_background": "light"
     },
     "output_type": "display_data"
    },
    {
     "data": {
      "image/png": "[encoded data removed]",
      "text/plain": [
       "<Figure size 864x360 with 2 Axes>"
      ]
     },
     "metadata": {
      "needs_background": "light"
     },
     "output_type": "display_data"
    },
    {
     "data": {
      "image/png": "[encoded data removed]",
      "text/plain": [
       "<Figure size 864x360 with 2 Axes>"
      ]
     },
     "metadata": {
      "needs_background": "light"
     },
     "output_type": "display_data"
    }
   ],
   "source": [
    "for col in CAT_FEATURE_NAMES:\n",
    "    fig, (ax1, ax2) = plt.subplots(1,2, figsize = (12, 5))\n",
    "    sns.pointplot(x='Annual Income', y=col, data=df_train, capsize=0.1, label='train', color='r', orient='h', ax=ax1)\n",
    "    sns.pointplot(x='Annual Income', y=col, data=df_test, capsize=0.1, label='test', color='g', orient='h', ax=ax1)\n",
    "    plt.title(col)\n",
    "    ax1.grid()\n",
    "\n",
    "    sns.pointplot(x='Credit Score', y=col, data=df_train, capsize=0.1, label='train', color='r', orient='h', ax=ax2)\n",
    "    sns.pointplot(x='Credit Score', y=col, data=df_test, capsize=0.1, label='test', color='g', orient='h', ax=ax2)\n",
    "    plt.title(col)\n",
    "    ax2.grid()\n",
    "    plt.tight_layout()\n",
    "    plt.show()"
   ]
  },
  {
   "cell_type": "markdown",
   "id": "chemical-karaoke",
   "metadata": {
    "papermill": {
     "duration": 0.077966,
     "end_time": "2021-04-10T16:28:26.174130",
     "exception": false,
     "start_time": "2021-04-10T16:28:26.096164",
     "status": "completed"
    },
    "tags": []
   },
   "source": [
    "Признаки Term и Home Ownership Более менее согласованы, признак Years in current job имеет смысл перевести в числовой. Признак purpose согласуется не очень хорошо. Поскольку признак Purpose имеет достаточно много уникальных значений, имеет смысл попробовать объеденить их в группы"
   ]
  },
  {
   "cell_type": "markdown",
   "id": "medieval-warning",
   "metadata": {
    "papermill": {
     "duration": 0.076737,
     "end_time": "2021-04-10T16:28:26.329541",
     "exception": false,
     "start_time": "2021-04-10T16:28:26.252804",
     "status": "completed"
    },
    "tags": []
   },
   "source": [
    "# EDA"
   ]
  },
  {
   "cell_type": "markdown",
   "id": "proprietary-labor",
   "metadata": {
    "papermill": {
     "duration": 0.076401,
     "end_time": "2021-04-10T16:28:26.482594",
     "exception": false,
     "start_time": "2021-04-10T16:28:26.406193",
     "status": "completed"
    },
    "tags": []
   },
   "source": [
    "### Annual income"
   ]
  },
  {
   "cell_type": "code",
   "execution_count": 19,
   "id": "returning-oracle",
   "metadata": {
    "execution": {
     "iopub.execute_input": "2021-04-10T16:28:26.660872Z",
     "iopub.status.busy": "2021-04-10T16:28:26.651479Z",
     "iopub.status.idle": "2021-04-10T16:28:26.794122Z",
     "shell.execute_reply": "2021-04-10T16:28:26.793588Z"
    },
    "papermill": {
     "duration": 0.233971,
     "end_time": "2021-04-10T16:28:26.794274",
     "exception": false,
     "start_time": "2021-04-10T16:28:26.560303",
     "status": "completed"
    },
    "tags": []
   },
   "outputs": [
    {
     "data": {
      "image/png": "[encoded data removed]",
      "text/plain": [
       "<Figure size 432x288 with 1 Axes>"
      ]
     },
     "metadata": {
      "needs_background": "light"
     },
     "output_type": "display_data"
    }
   ],
   "source": [
    "plt.hist(df_train['Annual Income'], bins=20)\n",
    "plt.show()"
   ]
  },
  {
   "cell_type": "markdown",
   "id": "noted-robertson",
   "metadata": {
    "papermill": {
     "duration": 0.078083,
     "end_time": "2021-04-10T16:28:26.949058",
     "exception": false,
     "start_time": "2021-04-10T16:28:26.870975",
     "status": "completed"
    },
    "tags": []
   },
   "source": [
    "Колличество клиентов с доходом > 3 000 000"
   ]
  },
  {
   "cell_type": "code",
   "execution_count": 20,
   "id": "incorporate-recognition",
   "metadata": {
    "execution": {
     "iopub.execute_input": "2021-04-10T16:28:27.113851Z",
     "iopub.status.busy": "2021-04-10T16:28:27.113102Z",
     "iopub.status.idle": "2021-04-10T16:28:27.118374Z",
     "shell.execute_reply": "2021-04-10T16:28:27.117751Z"
    },
    "papermill": {
     "duration": 0.091126,
     "end_time": "2021-04-10T16:28:27.118514",
     "exception": false,
     "start_time": "2021-04-10T16:28:27.027388",
     "status": "completed"
    },
    "tags": []
   },
   "outputs": [
    {
     "data": {
      "text/plain": [
       "225"
      ]
     },
     "execution_count": 20,
     "metadata": {},
     "output_type": "execute_result"
    }
   ],
   "source": [
    "len(df_train.loc[df_train['Annual Income'] > 3000000])"
   ]
  },
  {
   "cell_type": "code",
   "execution_count": 21,
   "id": "after-death",
   "metadata": {
    "execution": {
     "iopub.execute_input": "2021-04-10T16:28:27.283801Z",
     "iopub.status.busy": "2021-04-10T16:28:27.283074Z",
     "iopub.status.idle": "2021-04-10T16:28:27.289702Z",
     "shell.execute_reply": "2021-04-10T16:28:27.288790Z"
    },
    "papermill": {
     "duration": 0.090826,
     "end_time": "2021-04-10T16:28:27.289879",
     "exception": false,
     "start_time": "2021-04-10T16:28:27.199053",
     "status": "completed"
    },
    "tags": []
   },
   "outputs": [
    {
     "data": {
      "text/plain": [
       "1557"
      ]
     },
     "execution_count": 21,
     "metadata": {},
     "output_type": "execute_result"
    }
   ],
   "source": [
    "len(df_train.loc[df_train['Annual Income'].isna()])"
   ]
  },
  {
   "cell_type": "code",
   "execution_count": 22,
   "id": "involved-cassette",
   "metadata": {
    "execution": {
     "iopub.execute_input": "2021-04-10T16:28:27.454973Z",
     "iopub.status.busy": "2021-04-10T16:28:27.454080Z",
     "iopub.status.idle": "2021-04-10T16:28:27.893290Z",
     "shell.execute_reply": "2021-04-10T16:28:27.892805Z"
    },
    "papermill": {
     "duration": 0.52511,
     "end_time": "2021-04-10T16:28:27.893435",
     "exception": false,
     "start_time": "2021-04-10T16:28:27.368325",
     "status": "completed"
    },
    "tags": []
   },
   "outputs": [
    {
     "name": "stdout",
     "output_type": "stream",
     "text": [
      "ShapiroResult(statistic=nan, pvalue=1.0)\n",
      "MannwhitneyuResult(statistic=5534342.5, pvalue=0.031334788783133206)\n"
     ]
    },
    {
     "data": {
      "image/png": "[encoded data removed]",
      "text/plain": [
       "<Figure size 1008x360 with 2 Axes>"
      ]
     },
     "metadata": {
      "needs_background": "light"
     },
     "output_type": "display_data"
    }
   ],
   "source": [
    "plot_feature_with_target_statisctics(df_train, 'Annual Income', TARGET_NAME)"
   ]
  },
  {
   "cell_type": "markdown",
   "id": "rough-cycling",
   "metadata": {
    "papermill": {
     "duration": 0.079685,
     "end_time": "2021-04-10T16:28:28.051090",
     "exception": false,
     "start_time": "2021-04-10T16:28:27.971405",
     "status": "completed"
    },
    "tags": []
   },
   "source": [
    "Очень много пропусков. Также есть выбросные значения начиная с 3-4 миллионов, но при этом, не факт, что данные некорректны.\n",
    "Признак кажется достаточно полезным, имеет смысл пообучать модель на заполнение пропусков"
   ]
  },
  {
   "cell_type": "markdown",
   "id": "eastern-routine",
   "metadata": {
    "papermill": {
     "duration": 0.078107,
     "end_time": "2021-04-10T16:28:28.207902",
     "exception": false,
     "start_time": "2021-04-10T16:28:28.129795",
     "status": "completed"
    },
    "tags": []
   },
   "source": [
    "### Years in current job"
   ]
  },
  {
   "cell_type": "code",
   "execution_count": 23,
   "id": "serious-reality",
   "metadata": {
    "execution": {
     "iopub.execute_input": "2021-04-10T16:28:28.372113Z",
     "iopub.status.busy": "2021-04-10T16:28:28.371507Z",
     "iopub.status.idle": "2021-04-10T16:28:28.375881Z",
     "shell.execute_reply": "2021-04-10T16:28:28.375310Z"
    },
    "papermill": {
     "duration": 0.089769,
     "end_time": "2021-04-10T16:28:28.376009",
     "exception": false,
     "start_time": "2021-04-10T16:28:28.286240",
     "status": "completed"
    },
    "tags": []
   },
   "outputs": [
    {
     "data": {
      "text/plain": [
       "10+ years    2332\n",
       "2 years       705\n",
       "3 years       620\n",
       "< 1 year      563\n",
       "5 years       516\n",
       "1 year        504\n",
       "4 years       469\n",
       "6 years       426\n",
       "7 years       396\n",
       "8 years       339\n",
       "9 years       259\n",
       "Name: Years in current job, dtype: int64"
      ]
     },
     "execution_count": 23,
     "metadata": {},
     "output_type": "execute_result"
    }
   ],
   "source": [
    "df_train['Years in current job'].value_counts()"
   ]
  },
  {
   "cell_type": "code",
   "execution_count": 24,
   "id": "foster-playback",
   "metadata": {
    "execution": {
     "iopub.execute_input": "2021-04-10T16:28:28.540445Z",
     "iopub.status.busy": "2021-04-10T16:28:28.539771Z",
     "iopub.status.idle": "2021-04-10T16:28:28.546103Z",
     "shell.execute_reply": "2021-04-10T16:28:28.545431Z"
    },
    "papermill": {
     "duration": 0.091628,
     "end_time": "2021-04-10T16:28:28.546280",
     "exception": false,
     "start_time": "2021-04-10T16:28:28.454652",
     "status": "completed"
    },
    "tags": []
   },
   "outputs": [
    {
     "data": {
      "text/plain": [
       "371"
      ]
     },
     "execution_count": 24,
     "metadata": {},
     "output_type": "execute_result"
    }
   ],
   "source": [
    "len(df_train.loc[df_train['Years in current job'].isna()])"
   ]
  },
  {
   "cell_type": "markdown",
   "id": "certified-yesterday",
   "metadata": {
    "papermill": {
     "duration": 0.083283,
     "end_time": "2021-04-10T16:28:28.709685",
     "exception": false,
     "start_time": "2021-04-10T16:28:28.626402",
     "status": "completed"
    },
    "tags": []
   },
   "source": [
    "Возможно пропуски обозначают безработных. Переведем данные в числовой вид. Заполним пропуски нулями, тех кто работает менее 1 года закодируем как '1', 1 год как '2' и.т.д"
   ]
  },
  {
   "cell_type": "code",
   "execution_count": 25,
   "id": "first-interference",
   "metadata": {
    "execution": {
     "iopub.execute_input": "2021-04-10T16:28:28.889574Z",
     "iopub.status.busy": "2021-04-10T16:28:28.883359Z",
     "iopub.status.idle": "2021-04-10T16:28:28.893162Z",
     "shell.execute_reply": "2021-04-10T16:28:28.893700Z"
    },
    "papermill": {
     "duration": 0.104646,
     "end_time": "2021-04-10T16:28:28.893903",
     "exception": false,
     "start_time": "2021-04-10T16:28:28.789257",
     "status": "completed"
    },
    "tags": []
   },
   "outputs": [],
   "source": [
    "df_train.loc[df_train['Years in current job'] == '< 1 year', 'Years in current job'] = '0 years'\n",
    "df_train.loc[df_train['Years in current job'].isna(), 'Years in current job'] = '-1 years'\n",
    "df_train['Years in current job num'] = df_train['Years in current job'].str.extract('(-?\\d+)').astype(int) + 1"
   ]
  },
  {
   "cell_type": "code",
   "execution_count": 26,
   "id": "continuing-orange",
   "metadata": {
    "execution": {
     "iopub.execute_input": "2021-04-10T16:28:29.079851Z",
     "iopub.status.busy": "2021-04-10T16:28:29.074737Z",
     "iopub.status.idle": "2021-04-10T16:28:29.191863Z",
     "shell.execute_reply": "2021-04-10T16:28:29.191273Z"
    },
    "papermill": {
     "duration": 0.217445,
     "end_time": "2021-04-10T16:28:29.192017",
     "exception": false,
     "start_time": "2021-04-10T16:28:28.974572",
     "status": "completed"
    },
    "tags": []
   },
   "outputs": [
    {
     "data": {
      "image/png": "[encoded data removed]",
      "text/plain": [
       "<Figure size 432x288 with 1 Axes>"
      ]
     },
     "metadata": {
      "needs_background": "light"
     },
     "output_type": "display_data"
    }
   ],
   "source": [
    "plt.hist(df_train['Years in current job num'], bins=11)\n",
    "plt.show()"
   ]
  },
  {
   "cell_type": "markdown",
   "id": "catholic-tutorial",
   "metadata": {
    "papermill": {
     "duration": 0.079974,
     "end_time": "2021-04-10T16:28:29.351950",
     "exception": false,
     "start_time": "2021-04-10T16:28:29.271976",
     "status": "completed"
    },
    "tags": []
   },
   "source": [
    "Распределение в целом однородное, не считая большого числа работников 10+"
   ]
  },
  {
   "cell_type": "markdown",
   "id": "colonial-tolerance",
   "metadata": {
    "papermill": {
     "duration": 0.079651,
     "end_time": "2021-04-10T16:28:29.512018",
     "exception": false,
     "start_time": "2021-04-10T16:28:29.432367",
     "status": "completed"
    },
    "tags": []
   },
   "source": [
    "### Tax Liens"
   ]
  },
  {
   "cell_type": "code",
   "execution_count": 27,
   "id": "grave-fundamentals",
   "metadata": {
    "execution": {
     "iopub.execute_input": "2021-04-10T16:28:29.680637Z",
     "iopub.status.busy": "2021-04-10T16:28:29.679695Z",
     "iopub.status.idle": "2021-04-10T16:28:29.684486Z",
     "shell.execute_reply": "2021-04-10T16:28:29.683897Z"
    },
    "papermill": {
     "duration": 0.092439,
     "end_time": "2021-04-10T16:28:29.684639",
     "exception": false,
     "start_time": "2021-04-10T16:28:29.592200",
     "status": "completed"
    },
    "tags": []
   },
   "outputs": [
    {
     "data": {
      "text/plain": [
       "0.0    7366\n",
       "1.0      83\n",
       "2.0      30\n",
       "3.0      10\n",
       "4.0       6\n",
       "6.0       2\n",
       "5.0       2\n",
       "7.0       1\n",
       "Name: Tax Liens, dtype: int64"
      ]
     },
     "execution_count": 27,
     "metadata": {},
     "output_type": "execute_result"
    }
   ],
   "source": [
    "df_train['Tax Liens'].value_counts()"
   ]
  },
  {
   "cell_type": "code",
   "execution_count": 28,
   "id": "working-cancer",
   "metadata": {
    "execution": {
     "iopub.execute_input": "2021-04-10T16:28:29.855631Z",
     "iopub.status.busy": "2021-04-10T16:28:29.854640Z",
     "iopub.status.idle": "2021-04-10T16:28:30.386044Z",
     "shell.execute_reply": "2021-04-10T16:28:30.385386Z"
    },
    "papermill": {
     "duration": 0.619051,
     "end_time": "2021-04-10T16:28:30.386189",
     "exception": false,
     "start_time": "2021-04-10T16:28:29.767138",
     "status": "completed"
    },
    "tags": []
   },
   "outputs": [
    {
     "data": {
      "image/png": "[encoded data removed]",
      "text/plain": [
       "<Figure size 432x360 with 1 Axes>"
      ]
     },
     "metadata": {
      "needs_background": "light"
     },
     "output_type": "display_data"
    }
   ],
   "source": [
    "plt.figure(figsize=(6, 5))\n",
    "sns.countplot(x='Tax Liens', hue='Credit Default', data=df_train, log=True)\n",
    "\n",
    "plt.legend(title='target', loc='upper right')\n",
    "plt.show()"
   ]
  },
  {
   "cell_type": "markdown",
   "id": "fifteen-chemistry",
   "metadata": {
    "papermill": {
     "duration": 0.132469,
     "end_time": "2021-04-10T16:28:30.599992",
     "exception": false,
     "start_time": "2021-04-10T16:28:30.467523",
     "status": "completed"
    },
    "tags": []
   },
   "source": [
    "Данный признак числовой, и скорее всего представляет просто число налоговых обременений. Учитывая явное преобладание 0, скорее всего признак не очень полезный. Можно также попробовать свести этот признак к бинарному, (имеются ли налоговые обременения), так как по графику частоты попадания в 1 класс кажутся немного выше при ненулевых значениях."
   ]
  },
  {
   "cell_type": "markdown",
   "id": "overall-instrument",
   "metadata": {
    "papermill": {
     "duration": 0.083593,
     "end_time": "2021-04-10T16:28:30.766202",
     "exception": false,
     "start_time": "2021-04-10T16:28:30.682609",
     "status": "completed"
    },
    "tags": []
   },
   "source": [
    "## Number of Open Accounts"
   ]
  },
  {
   "cell_type": "code",
   "execution_count": 29,
   "id": "extreme-hopkins",
   "metadata": {
    "execution": {
     "iopub.execute_input": "2021-04-10T16:28:30.936633Z",
     "iopub.status.busy": "2021-04-10T16:28:30.936016Z",
     "iopub.status.idle": "2021-04-10T16:28:31.122667Z",
     "shell.execute_reply": "2021-04-10T16:28:31.121993Z"
    },
    "papermill": {
     "duration": 0.275136,
     "end_time": "2021-04-10T16:28:31.122841",
     "exception": false,
     "start_time": "2021-04-10T16:28:30.847705",
     "status": "completed"
    },
    "tags": []
   },
   "outputs": [
    {
     "data": {
      "image/png": "[encoded data removed]",
      "text/plain": [
       "<Figure size 432x288 with 1 Axes>"
      ]
     },
     "metadata": {
      "needs_background": "light"
     },
     "output_type": "display_data"
    }
   ],
   "source": [
    "plt.hist(df_train['Number of Open Accounts'], bins = len(df_train['Number of Open Accounts'].value_counts()))\n",
    "plt.show()"
   ]
  },
  {
   "cell_type": "code",
   "execution_count": 30,
   "id": "annoying-narrative",
   "metadata": {
    "execution": {
     "iopub.execute_input": "2021-04-10T16:28:31.323092Z",
     "iopub.status.busy": "2021-04-10T16:28:31.321534Z",
     "iopub.status.idle": "2021-04-10T16:28:31.328251Z",
     "shell.execute_reply": "2021-04-10T16:28:31.327603Z"
    },
    "papermill": {
     "duration": 0.120479,
     "end_time": "2021-04-10T16:28:31.328402",
     "exception": false,
     "start_time": "2021-04-10T16:28:31.207923",
     "status": "completed"
    },
    "tags": []
   },
   "outputs": [
    {
     "data": {
      "text/plain": [
       "27"
      ]
     },
     "execution_count": 30,
     "metadata": {},
     "output_type": "execute_result"
    }
   ],
   "source": [
    "len(df_train.loc[df_train['Number of Open Accounts'] > 30])"
   ]
  },
  {
   "cell_type": "markdown",
   "id": "political-logging",
   "metadata": {
    "papermill": {
     "duration": 0.084416,
     "end_time": "2021-04-10T16:28:31.498489",
     "exception": false,
     "start_time": "2021-04-10T16:28:31.414073",
     "status": "completed"
    },
    "tags": []
   },
   "source": [
    "Значения более 25-30 выглядят выбросно"
   ]
  },
  {
   "cell_type": "markdown",
   "id": "infectious-squad",
   "metadata": {
    "papermill": {
     "duration": 0.084188,
     "end_time": "2021-04-10T16:28:31.667404",
     "exception": false,
     "start_time": "2021-04-10T16:28:31.583216",
     "status": "completed"
    },
    "tags": []
   },
   "source": [
    "## Years of Credit History"
   ]
  },
  {
   "cell_type": "code",
   "execution_count": 31,
   "id": "elegant-vancouver",
   "metadata": {
    "execution": {
     "iopub.execute_input": "2021-04-10T16:28:31.867363Z",
     "iopub.status.busy": "2021-04-10T16:28:31.866324Z",
     "iopub.status.idle": "2021-04-10T16:28:31.981505Z",
     "shell.execute_reply": "2021-04-10T16:28:31.980859Z"
    },
    "papermill": {
     "duration": 0.227213,
     "end_time": "2021-04-10T16:28:31.981702",
     "exception": false,
     "start_time": "2021-04-10T16:28:31.754489",
     "status": "completed"
    },
    "tags": []
   },
   "outputs": [
    {
     "data": {
      "image/png": "[encoded data removed]",
      "text/plain": [
       "<Figure size 432x288 with 1 Axes>"
      ]
     },
     "metadata": {
      "needs_background": "light"
     },
     "output_type": "display_data"
    }
   ],
   "source": [
    "plt.hist(df_train['Years of Credit History'], bins = 10)\n",
    "plt.show()"
   ]
  },
  {
   "cell_type": "code",
   "execution_count": 32,
   "id": "dangerous-beauty",
   "metadata": {
    "execution": {
     "iopub.execute_input": "2021-04-10T16:28:32.161055Z",
     "iopub.status.busy": "2021-04-10T16:28:32.160069Z",
     "iopub.status.idle": "2021-04-10T16:28:32.168497Z",
     "shell.execute_reply": "2021-04-10T16:28:32.167967Z"
    },
    "papermill": {
     "duration": 0.100416,
     "end_time": "2021-04-10T16:28:32.168661",
     "exception": false,
     "start_time": "2021-04-10T16:28:32.068245",
     "status": "completed"
    },
    "tags": []
   },
   "outputs": [
    {
     "data": {
      "text/plain": [
       "15.0    104\n",
       "16.0     99\n",
       "16.5     91\n",
       "17.0     86\n",
       "17.5     83\n",
       "       ... \n",
       "43.5      1\n",
       "50.0      1\n",
       "40.1      1\n",
       "51.5      1\n",
       "41.6      1\n",
       "Name: Years of Credit History, Length: 408, dtype: int64"
      ]
     },
     "execution_count": 32,
     "metadata": {},
     "output_type": "execute_result"
    }
   ],
   "source": [
    "df_train['Years of Credit History'].value_counts()"
   ]
  },
  {
   "cell_type": "markdown",
   "id": "written-poland",
   "metadata": {
    "papermill": {
     "duration": 0.08456,
     "end_time": "2021-04-10T16:28:32.337885",
     "exception": false,
     "start_time": "2021-04-10T16:28:32.253325",
     "status": "completed"
    },
    "tags": []
   },
   "source": [
    "Вероятнее всего годы представлены с точностью до десятых, значения от 45-50 кажутся выбросами, жаль нет данных о возрастах клиентов"
   ]
  },
  {
   "cell_type": "markdown",
   "id": "environmental-belfast",
   "metadata": {
    "papermill": {
     "duration": 0.086317,
     "end_time": "2021-04-10T16:28:32.511437",
     "exception": false,
     "start_time": "2021-04-10T16:28:32.425120",
     "status": "completed"
    },
    "tags": []
   },
   "source": [
    "## Maximum Open Credit "
   ]
  },
  {
   "cell_type": "code",
   "execution_count": 33,
   "id": "chief-belly",
   "metadata": {
    "execution": {
     "iopub.execute_input": "2021-04-10T16:28:32.704029Z",
     "iopub.status.busy": "2021-04-10T16:28:32.703238Z",
     "iopub.status.idle": "2021-04-10T16:28:33.119757Z",
     "shell.execute_reply": "2021-04-10T16:28:33.118719Z"
    },
    "papermill": {
     "duration": 0.523788,
     "end_time": "2021-04-10T16:28:33.119903",
     "exception": false,
     "start_time": "2021-04-10T16:28:32.596115",
     "status": "completed"
    },
    "tags": []
   },
   "outputs": [
    {
     "data": {
      "image/png": "[encoded data removed]",
      "text/plain": [
       "<Figure size 432x288 with 1 Axes>"
      ]
     },
     "metadata": {
      "needs_background": "light"
     },
     "output_type": "display_data"
    }
   ],
   "source": [
    "plt.hist(df_train['Maximum Open Credit'], bins = 20, log=True)\n",
    "plt.show()"
   ]
  },
  {
   "cell_type": "code",
   "execution_count": 34,
   "id": "caring-thesaurus",
   "metadata": {
    "execution": {
     "iopub.execute_input": "2021-04-10T16:28:33.293397Z",
     "iopub.status.busy": "2021-04-10T16:28:33.292724Z",
     "iopub.status.idle": "2021-04-10T16:28:33.462815Z",
     "shell.execute_reply": "2021-04-10T16:28:33.462273Z"
    },
    "papermill": {
     "duration": 0.259297,
     "end_time": "2021-04-10T16:28:33.462955",
     "exception": false,
     "start_time": "2021-04-10T16:28:33.203658",
     "status": "completed"
    },
    "tags": []
   },
   "outputs": [
    {
     "data": {
      "image/png": "[encoded data removed]",
      "text/plain": [
       "<Figure size 432x288 with 1 Axes>"
      ]
     },
     "metadata": {
      "needs_background": "light"
     },
     "output_type": "display_data"
    }
   ],
   "source": [
    "plt.hist(df_train.loc[df_train['Maximum Open Credit'] < 4000000, 'Maximum Open Credit'], bins = 20)\n",
    "plt.show()"
   ]
  },
  {
   "cell_type": "code",
   "execution_count": 35,
   "id": "running-catalyst",
   "metadata": {
    "execution": {
     "iopub.execute_input": "2021-04-10T16:28:33.640555Z",
     "iopub.status.busy": "2021-04-10T16:28:33.639637Z",
     "iopub.status.idle": "2021-04-10T16:28:33.642933Z",
     "shell.execute_reply": "2021-04-10T16:28:33.643489Z"
    },
    "papermill": {
     "duration": 0.095862,
     "end_time": "2021-04-10T16:28:33.643658",
     "exception": false,
     "start_time": "2021-04-10T16:28:33.547796",
     "status": "completed"
    },
    "tags": []
   },
   "outputs": [
    {
     "name": "stdout",
     "output_type": "stream",
     "text": [
      "64\n",
      "98\n"
     ]
    }
   ],
   "source": [
    "print(len(df_train.loc[df_train['Maximum Open Credit'] > 4000000, 'Maximum Open Credit']))\n",
    "print(len(df_train.loc[df_train['Maximum Open Credit'] > 3000000, 'Maximum Open Credit']))"
   ]
  },
  {
   "cell_type": "markdown",
   "id": "compound-start",
   "metadata": {
    "papermill": {
     "duration": 0.085347,
     "end_time": "2021-04-10T16:28:33.814161",
     "exception": false,
     "start_time": "2021-04-10T16:28:33.728814",
     "status": "completed"
    },
    "tags": []
   },
   "source": [
    "Максимальные величины кредита более 3-4 миллионов маловероятны"
   ]
  },
  {
   "cell_type": "markdown",
   "id": "critical-jaguar",
   "metadata": {
    "papermill": {
     "duration": 0.085422,
     "end_time": "2021-04-10T16:28:33.985087",
     "exception": false,
     "start_time": "2021-04-10T16:28:33.899665",
     "status": "completed"
    },
    "tags": []
   },
   "source": [
    "## Number of Credit Problems"
   ]
  },
  {
   "cell_type": "code",
   "execution_count": 36,
   "id": "completed-hardwood",
   "metadata": {
    "execution": {
     "iopub.execute_input": "2021-04-10T16:28:34.163963Z",
     "iopub.status.busy": "2021-04-10T16:28:34.163359Z",
     "iopub.status.idle": "2021-04-10T16:28:34.168310Z",
     "shell.execute_reply": "2021-04-10T16:28:34.167807Z"
    },
    "papermill": {
     "duration": 0.096884,
     "end_time": "2021-04-10T16:28:34.168442",
     "exception": false,
     "start_time": "2021-04-10T16:28:34.071558",
     "status": "completed"
    },
    "tags": []
   },
   "outputs": [
    {
     "data": {
      "text/plain": [
       "0.0    6469\n",
       "1.0     882\n",
       "2.0      93\n",
       "3.0      35\n",
       "4.0       9\n",
       "5.0       7\n",
       "6.0       4\n",
       "7.0       1\n",
       "Name: Number of Credit Problems, dtype: int64"
      ]
     },
     "execution_count": 36,
     "metadata": {},
     "output_type": "execute_result"
    }
   ],
   "source": [
    "df_train['Number of Credit Problems'].value_counts()"
   ]
  },
  {
   "cell_type": "code",
   "execution_count": 37,
   "id": "functioning-fifty",
   "metadata": {
    "execution": {
     "iopub.execute_input": "2021-04-10T16:28:34.346499Z",
     "iopub.status.busy": "2021-04-10T16:28:34.345863Z",
     "iopub.status.idle": "2021-04-10T16:28:34.931583Z",
     "shell.execute_reply": "2021-04-10T16:28:34.930942Z"
    },
    "papermill": {
     "duration": 0.677769,
     "end_time": "2021-04-10T16:28:34.931729",
     "exception": false,
     "start_time": "2021-04-10T16:28:34.253960",
     "status": "completed"
    },
    "tags": []
   },
   "outputs": [
    {
     "data": {
      "image/png": "[encoded data removed]",
      "text/plain": [
       "<Figure size 576x576 with 1 Axes>"
      ]
     },
     "metadata": {
      "needs_background": "light"
     },
     "output_type": "display_data"
    }
   ],
   "source": [
    "plt.figure(figsize=(8, 8))\n",
    "sns.countplot(x='Number of Credit Problems', hue='Credit Default', data=df_train, log=True)\n",
    "\n",
    "plt.legend(title='target', loc='upper right')\n",
    "plt.show()"
   ]
  },
  {
   "cell_type": "code",
   "execution_count": 38,
   "id": "supported-macedonia",
   "metadata": {
    "execution": {
     "iopub.execute_input": "2021-04-10T16:28:35.115654Z",
     "iopub.status.busy": "2021-04-10T16:28:35.114663Z",
     "iopub.status.idle": "2021-04-10T16:28:35.519517Z",
     "shell.execute_reply": "2021-04-10T16:28:35.518857Z"
    },
    "papermill": {
     "duration": 0.501213,
     "end_time": "2021-04-10T16:28:35.519660",
     "exception": false,
     "start_time": "2021-04-10T16:28:35.018447",
     "status": "completed"
    },
    "tags": []
   },
   "outputs": [
    {
     "data": {
      "image/png": "[encoded data removed]",
      "text/plain": [
       "<Figure size 432x432 with 1 Axes>"
      ]
     },
     "metadata": {
      "needs_background": "light"
     },
     "output_type": "display_data"
    }
   ],
   "source": [
    "plt.figure(figsize=(6, 6))\n",
    "sns.pointplot(x='Credit Default', y='Number of Credit Problems', data=df_train, capsize=0.1, orient='h')\n",
    "plt.show()"
   ]
  },
  {
   "cell_type": "markdown",
   "id": "favorite-proceeding",
   "metadata": {
    "papermill": {
     "duration": 0.090543,
     "end_time": "2021-04-10T16:28:35.702997",
     "exception": false,
     "start_time": "2021-04-10T16:28:35.612454",
     "status": "completed"
    },
    "tags": []
   },
   "source": [
    "Очень не равномерное распределение, значения более 4 маловероятны. Можно объеденить некоторые из значений или попробовать сделать признак бинарным, поскольку для значений 6 и 7 нет величин 1 класса, можно также приравнять их 5"
   ]
  },
  {
   "cell_type": "markdown",
   "id": "stainless-tract",
   "metadata": {
    "papermill": {
     "duration": 0.087376,
     "end_time": "2021-04-10T16:28:35.879655",
     "exception": false,
     "start_time": "2021-04-10T16:28:35.792279",
     "status": "completed"
    },
    "tags": []
   },
   "source": [
    "## Months since last delinquent"
   ]
  },
  {
   "cell_type": "code",
   "execution_count": 39,
   "id": "informal-rocket",
   "metadata": {
    "execution": {
     "iopub.execute_input": "2021-04-10T16:28:36.079907Z",
     "iopub.status.busy": "2021-04-10T16:28:36.077430Z",
     "iopub.status.idle": "2021-04-10T16:28:36.216121Z",
     "shell.execute_reply": "2021-04-10T16:28:36.215341Z"
    },
    "papermill": {
     "duration": 0.249738,
     "end_time": "2021-04-10T16:28:36.216295",
     "exception": false,
     "start_time": "2021-04-10T16:28:35.966557",
     "status": "completed"
    },
    "tags": []
   },
   "outputs": [
    {
     "data": {
      "image/png": "[encoded data removed]",
      "text/plain": [
       "<Figure size 432x288 with 1 Axes>"
      ]
     },
     "metadata": {
      "needs_background": "light"
     },
     "output_type": "display_data"
    }
   ],
   "source": [
    "plt.hist(df_train['Months since last delinquent'], bins = 20)\n",
    "plt.show()"
   ]
  },
  {
   "cell_type": "code",
   "execution_count": 40,
   "id": "backed-cleanup",
   "metadata": {
    "execution": {
     "iopub.execute_input": "2021-04-10T16:28:36.408195Z",
     "iopub.status.busy": "2021-04-10T16:28:36.407222Z",
     "iopub.status.idle": "2021-04-10T16:28:36.421415Z",
     "shell.execute_reply": "2021-04-10T16:28:36.422262Z"
    },
    "papermill": {
     "duration": 0.116128,
     "end_time": "2021-04-10T16:28:36.422571",
     "exception": false,
     "start_time": "2021-04-10T16:28:36.306443",
     "status": "completed"
    },
    "tags": []
   },
   "outputs": [
    {
     "data": {
      "text/plain": [
       "4081"
      ]
     },
     "execution_count": 40,
     "metadata": {},
     "output_type": "execute_result"
    }
   ],
   "source": [
    "len(df_train.loc[df_train['Months since last delinquent'].isna()])"
   ]
  },
  {
   "cell_type": "code",
   "execution_count": 41,
   "id": "occupied-subdivision",
   "metadata": {
    "execution": {
     "iopub.execute_input": "2021-04-10T16:28:36.618549Z",
     "iopub.status.busy": "2021-04-10T16:28:36.615969Z",
     "iopub.status.idle": "2021-04-10T16:28:36.623918Z",
     "shell.execute_reply": "2021-04-10T16:28:36.624404Z"
    },
    "papermill": {
     "duration": 0.103184,
     "end_time": "2021-04-10T16:28:36.624568",
     "exception": false,
     "start_time": "2021-04-10T16:28:36.521384",
     "status": "completed"
    },
    "tags": []
   },
   "outputs": [
    {
     "data": {
      "text/plain": [
       "0    2951\n",
       "1    1130\n",
       "Name: Credit Default, dtype: int64"
      ]
     },
     "execution_count": 41,
     "metadata": {},
     "output_type": "execute_result"
    }
   ],
   "source": [
    "month_isna_to_target = df_train.loc[df_train['Months since last delinquent'].isna(), ['Months since last delinquent', 'Credit Default']]\n",
    "month_isna_to_target['Credit Default'].value_counts()"
   ]
  },
  {
   "cell_type": "code",
   "execution_count": 42,
   "id": "occupational-pound",
   "metadata": {
    "execution": {
     "iopub.execute_input": "2021-04-10T16:28:36.813359Z",
     "iopub.status.busy": "2021-04-10T16:28:36.812578Z",
     "iopub.status.idle": "2021-04-10T16:28:36.816489Z",
     "shell.execute_reply": "2021-04-10T16:28:36.817083Z"
    },
    "papermill": {
     "duration": 0.102264,
     "end_time": "2021-04-10T16:28:36.817253",
     "exception": false,
     "start_time": "2021-04-10T16:28:36.714989",
     "status": "completed"
    },
    "tags": []
   },
   "outputs": [
    {
     "data": {
      "text/plain": [
       "4"
      ]
     },
     "execution_count": 42,
     "metadata": {},
     "output_type": "execute_result"
    }
   ],
   "source": [
    "len(df_train.loc[df_train['Months since last delinquent'] > 85])"
   ]
  },
  {
   "cell_type": "markdown",
   "id": "dense-decline",
   "metadata": {
    "papermill": {
     "duration": 0.087502,
     "end_time": "2021-04-10T16:28:36.994029",
     "exception": false,
     "start_time": "2021-04-10T16:28:36.906527",
     "status": "completed"
    },
    "tags": []
   },
   "source": [
    "Признак имеет очень много пропусков, с точки зрения логики задачи, пропуски могут означать отсутствие просрочек когда либо, поэтому их можно закодировать максимальным значением в выборке. Значения более 85 можно считать выбросами. Также можно попробовать сделать дискретизацию признака."
   ]
  },
  {
   "cell_type": "markdown",
   "id": "necessary-sullivan",
   "metadata": {
    "papermill": {
     "duration": 0.090569,
     "end_time": "2021-04-10T16:28:37.174470",
     "exception": false,
     "start_time": "2021-04-10T16:28:37.083901",
     "status": "completed"
    },
    "tags": []
   },
   "source": [
    "## Bankruptcies"
   ]
  },
  {
   "cell_type": "code",
   "execution_count": 43,
   "id": "signal-fight",
   "metadata": {
    "execution": {
     "iopub.execute_input": "2021-04-10T16:28:37.354384Z",
     "iopub.status.busy": "2021-04-10T16:28:37.353783Z",
     "iopub.status.idle": "2021-04-10T16:28:37.498642Z",
     "shell.execute_reply": "2021-04-10T16:28:37.498179Z"
    },
    "papermill": {
     "duration": 0.23615,
     "end_time": "2021-04-10T16:28:37.498915",
     "exception": false,
     "start_time": "2021-04-10T16:28:37.262765",
     "status": "completed"
    },
    "tags": []
   },
   "outputs": [
    {
     "data": {
      "image/png": "[encoded data removed]",
      "text/plain": [
       "<Figure size 432x288 with 1 Axes>"
      ]
     },
     "metadata": {
      "needs_background": "light"
     },
     "output_type": "display_data"
    }
   ],
   "source": [
    "plt.hist(df_train['Bankruptcies'])\n",
    "plt.show()"
   ]
  },
  {
   "cell_type": "code",
   "execution_count": 44,
   "id": "cultural-physiology",
   "metadata": {
    "execution": {
     "iopub.execute_input": "2021-04-10T16:28:37.682325Z",
     "iopub.status.busy": "2021-04-10T16:28:37.681582Z",
     "iopub.status.idle": "2021-04-10T16:28:37.691111Z",
     "shell.execute_reply": "2021-04-10T16:28:37.690597Z"
    },
    "papermill": {
     "duration": 0.102549,
     "end_time": "2021-04-10T16:28:37.691268",
     "exception": false,
     "start_time": "2021-04-10T16:28:37.588719",
     "status": "completed"
    },
    "tags": []
   },
   "outputs": [
    {
     "data": {
      "text/plain": [
       "0    4782\n",
       "1    1878\n",
       "Name: Credit Default, dtype: int64"
      ]
     },
     "execution_count": 44,
     "metadata": {},
     "output_type": "execute_result"
    }
   ],
   "source": [
    "Bankruptcies_isna_to_target = df_train.loc[df_train['Bankruptcies'] == 0, ['Bankruptcies', 'Credit Default']]\n",
    "Bankruptcies_isna_to_target['Credit Default'].value_counts()"
   ]
  },
  {
   "cell_type": "code",
   "execution_count": 45,
   "id": "toxic-hawaii",
   "metadata": {
    "execution": {
     "iopub.execute_input": "2021-04-10T16:28:37.884157Z",
     "iopub.status.busy": "2021-04-10T16:28:37.883323Z",
     "iopub.status.idle": "2021-04-10T16:28:37.887859Z",
     "shell.execute_reply": "2021-04-10T16:28:37.887356Z"
    },
    "papermill": {
     "duration": 0.102716,
     "end_time": "2021-04-10T16:28:37.888004",
     "exception": false,
     "start_time": "2021-04-10T16:28:37.785288",
     "status": "completed"
    },
    "tags": []
   },
   "outputs": [
    {
     "data": {
      "text/plain": [
       "0    595\n",
       "1    231\n",
       "Name: Credit Default, dtype: int64"
      ]
     },
     "execution_count": 45,
     "metadata": {},
     "output_type": "execute_result"
    }
   ],
   "source": [
    "Bankruptcies_isna_to_target = df_train.loc[df_train['Bankruptcies'] > 0, ['Bankruptcies', 'Credit Default']]\n",
    "Bankruptcies_isna_to_target['Credit Default'].value_counts()"
   ]
  },
  {
   "cell_type": "code",
   "execution_count": 46,
   "id": "blank-prescription",
   "metadata": {
    "execution": {
     "iopub.execute_input": "2021-04-10T16:28:38.076334Z",
     "iopub.status.busy": "2021-04-10T16:28:38.075691Z",
     "iopub.status.idle": "2021-04-10T16:28:38.080976Z",
     "shell.execute_reply": "2021-04-10T16:28:38.081446Z"
    },
    "papermill": {
     "duration": 0.103222,
     "end_time": "2021-04-10T16:28:38.081651",
     "exception": false,
     "start_time": "2021-04-10T16:28:37.978429",
     "status": "completed"
    },
    "tags": []
   },
   "outputs": [
    {
     "data": {
      "text/plain": [
       "826"
      ]
     },
     "execution_count": 46,
     "metadata": {},
     "output_type": "execute_result"
    }
   ],
   "source": [
    "len(df_train.loc[df_train['Bankruptcies'] > 0])"
   ]
  },
  {
   "cell_type": "code",
   "execution_count": 47,
   "id": "verbal-minnesota",
   "metadata": {
    "execution": {
     "iopub.execute_input": "2021-04-10T16:28:38.269839Z",
     "iopub.status.busy": "2021-04-10T16:28:38.269160Z",
     "iopub.status.idle": "2021-04-10T16:28:38.702183Z",
     "shell.execute_reply": "2021-04-10T16:28:38.701635Z"
    },
    "papermill": {
     "duration": 0.526971,
     "end_time": "2021-04-10T16:28:38.702334",
     "exception": false,
     "start_time": "2021-04-10T16:28:38.175363",
     "status": "completed"
    },
    "tags": []
   },
   "outputs": [
    {
     "name": "stdout",
     "output_type": "stream",
     "text": [
      "ShapiroResult(statistic=nan, pvalue=1.0)\n",
      "MannwhitneyuResult(statistic=5686353.0, pvalue=0.4567074598086799)\n"
     ]
    },
    {
     "data": {
      "image/png": "[encoded data removed]",
      "text/plain": [
       "<Figure size 1008x360 with 2 Axes>"
      ]
     },
     "metadata": {
      "needs_background": "light"
     },
     "output_type": "display_data"
    }
   ],
   "source": [
    "plot_feature_with_target_statisctics(df_train, 'Bankruptcies', TARGET_NAME)"
   ]
  },
  {
   "cell_type": "markdown",
   "id": "stretch-replacement",
   "metadata": {
    "papermill": {
     "duration": 0.091443,
     "end_time": "2021-04-10T16:28:38.887699",
     "exception": false,
     "start_time": "2021-04-10T16:28:38.796256",
     "status": "completed"
    },
    "tags": []
   },
   "source": [
    "Количество банкротов не велико. Частота невыполнения кредитных обязательств при наличии банкроства кажется выше. Учитывая отчилия распределений данного признака на трейне и тесте, а также сходство доверительных интервалов относительно целевой переменной, признак кажется не очень полезным. Пропуски можно заполнить модой."
   ]
  },
  {
   "cell_type": "markdown",
   "id": "ancient-faith",
   "metadata": {
    "papermill": {
     "duration": 0.09217,
     "end_time": "2021-04-10T16:28:39.071325",
     "exception": false,
     "start_time": "2021-04-10T16:28:38.979155",
     "status": "completed"
    },
    "tags": []
   },
   "source": [
    "## Purpose "
   ]
  },
  {
   "cell_type": "markdown",
   "id": "nonprofit-miller",
   "metadata": {
    "papermill": {
     "duration": 0.09138,
     "end_time": "2021-04-10T16:28:39.256831",
     "exception": false,
     "start_time": "2021-04-10T16:28:39.165451",
     "status": "completed"
    },
    "tags": []
   },
   "source": [
    "Попробуем объеденить некоторые значения признака"
   ]
  },
  {
   "cell_type": "code",
   "execution_count": 48,
   "id": "assured-beijing",
   "metadata": {
    "execution": {
     "iopub.execute_input": "2021-04-10T16:28:39.449063Z",
     "iopub.status.busy": "2021-04-10T16:28:39.447068Z",
     "iopub.status.idle": "2021-04-10T16:28:40.113774Z",
     "shell.execute_reply": "2021-04-10T16:28:40.113190Z"
    },
    "papermill": {
     "duration": 0.764368,
     "end_time": "2021-04-10T16:28:40.113921",
     "exception": false,
     "start_time": "2021-04-10T16:28:39.349553",
     "status": "completed"
    },
    "tags": []
   },
   "outputs": [
    {
     "data": {
      "image/png": "[encoded data removed]",
      "text/plain": [
       "<Figure size 432x432 with 1 Axes>"
      ]
     },
     "metadata": {
      "needs_background": "light"
     },
     "output_type": "display_data"
    }
   ],
   "source": [
    "plt.figure(figsize=(6, 6))\n",
    "sns.pointplot(x='Credit Default', y='Purpose', data=df_train, capsize=0.1, orient='h')\n",
    "plt.show()"
   ]
  },
  {
   "cell_type": "code",
   "execution_count": 49,
   "id": "joined-gazette",
   "metadata": {
    "execution": {
     "iopub.execute_input": "2021-04-10T16:28:40.310961Z",
     "iopub.status.busy": "2021-04-10T16:28:40.310177Z",
     "iopub.status.idle": "2021-04-10T16:28:40.315545Z",
     "shell.execute_reply": "2021-04-10T16:28:40.314919Z"
    },
    "papermill": {
     "duration": 0.10803,
     "end_time": "2021-04-10T16:28:40.315689",
     "exception": false,
     "start_time": "2021-04-10T16:28:40.207659",
     "status": "completed"
    },
    "tags": []
   },
   "outputs": [
    {
     "data": {
      "text/plain": [
       "debt consolidation      5944\n",
       "other                    665\n",
       "home improvements        412\n",
       "business loan            129\n",
       "buy a car                 96\n",
       "medical bills             71\n",
       "major purchase            40\n",
       "take a trip               37\n",
       "buy house                 34\n",
       "small business            26\n",
       "wedding                   15\n",
       "moving                    11\n",
       "educational expenses      10\n",
       "vacation                   8\n",
       "renewable energy           2\n",
       "Name: Purpose, dtype: int64"
      ]
     },
     "execution_count": 49,
     "metadata": {},
     "output_type": "execute_result"
    }
   ],
   "source": [
    "df_train['Purpose'].value_counts()"
   ]
  },
  {
   "cell_type": "code",
   "execution_count": 50,
   "id": "harmful-nylon",
   "metadata": {
    "execution": {
     "iopub.execute_input": "2021-04-10T16:28:40.507044Z",
     "iopub.status.busy": "2021-04-10T16:28:40.506444Z",
     "iopub.status.idle": "2021-04-10T16:28:40.510203Z",
     "shell.execute_reply": "2021-04-10T16:28:40.510747Z"
    },
    "papermill": {
     "duration": 0.10309,
     "end_time": "2021-04-10T16:28:40.510923",
     "exception": false,
     "start_time": "2021-04-10T16:28:40.407833",
     "status": "completed"
    },
    "tags": []
   },
   "outputs": [],
   "source": [
    "def add_merged_purpose(df):\n",
    "    df.loc[df['Purpose'].isin(['debt consolidation', 'other', 'home improvements', 'take a trip',\n",
    "                              'buy a car','buy house', 'medical bills']), 'merged_purpose'] = 0\n",
    "    df.loc[df['Purpose'].isin(['wedding', 'educational expenses','moving',\n",
    "                              'major purchase', 'vacation']), 'merged_purpose'] = 1\n",
    "    df.loc[df['Purpose'].isin(['small business', 'business loan', \n",
    "                               'renewable energy']), 'merged_purpose'] = 2\n",
    "    return df"
   ]
  },
  {
   "cell_type": "code",
   "execution_count": 51,
   "id": "seven-agreement",
   "metadata": {
    "execution": {
     "iopub.execute_input": "2021-04-10T16:28:40.708757Z",
     "iopub.status.busy": "2021-04-10T16:28:40.708032Z",
     "iopub.status.idle": "2021-04-10T16:28:40.722928Z",
     "shell.execute_reply": "2021-04-10T16:28:40.722131Z"
    },
    "papermill": {
     "duration": 0.117787,
     "end_time": "2021-04-10T16:28:40.723086",
     "exception": false,
     "start_time": "2021-04-10T16:28:40.605299",
     "status": "completed"
    },
    "tags": []
   },
   "outputs": [
    {
     "data": {
      "text/plain": [
       "0.0    7259\n",
       "2.0     157\n",
       "1.0      84\n",
       "Name: merged_purpose, dtype: int64"
      ]
     },
     "execution_count": 51,
     "metadata": {},
     "output_type": "execute_result"
    }
   ],
   "source": [
    "df_train = add_merged_purpose(df_train)\n",
    "df_test = add_merged_purpose(df_test)\n",
    "df_train['merged_purpose'].value_counts()"
   ]
  },
  {
   "cell_type": "markdown",
   "id": "authentic-polls",
   "metadata": {
    "papermill": {
     "duration": 0.093538,
     "end_time": "2021-04-10T16:28:40.911804",
     "exception": false,
     "start_time": "2021-04-10T16:28:40.818266",
     "status": "completed"
    },
    "tags": []
   },
   "source": [
    "Учитывая количество уникальных значений renewable energy отнесем их также во второй класс."
   ]
  },
  {
   "cell_type": "code",
   "execution_count": 52,
   "id": "opening-jerusalem",
   "metadata": {
    "execution": {
     "iopub.execute_input": "2021-04-10T16:28:41.108116Z",
     "iopub.status.busy": "2021-04-10T16:28:41.107095Z",
     "iopub.status.idle": "2021-04-10T16:28:41.812835Z",
     "shell.execute_reply": "2021-04-10T16:28:41.812201Z"
    },
    "papermill": {
     "duration": 0.808269,
     "end_time": "2021-04-10T16:28:41.812970",
     "exception": false,
     "start_time": "2021-04-10T16:28:41.004701",
     "status": "completed"
    },
    "tags": []
   },
   "outputs": [
    {
     "data": {
      "image/png": "[encoded data removed]",
      "text/plain": [
       "<Figure size 576x360 with 1 Axes>"
      ]
     },
     "metadata": {
      "needs_background": "light"
     },
     "output_type": "display_data"
    },
    {
     "data": {
      "image/png": "[encoded data removed]",
      "text/plain": [
       "<Figure size 576x360 with 1 Axes>"
      ]
     },
     "metadata": {
      "needs_background": "light"
     },
     "output_type": "display_data"
    }
   ],
   "source": [
    "control_features = ['Annual Income', 'Credit Score']\n",
    "for control_feature in control_features:\n",
    "    plt.figure(figsize=(8,5))\n",
    "    sns.pointplot(x=control_feature, y='merged_purpose', data=df_train, capsize=0.2, label='train', color='r', orient='h')\n",
    "    sns.pointplot(x=control_feature, y='merged_purpose', data=df_test, capsize=0.1, label='test', color='g', orient='h')\n",
    "    plt.title(col)\n",
    "    plt.show()"
   ]
  },
  {
   "cell_type": "markdown",
   "id": "choice-parliament",
   "metadata": {
    "papermill": {
     "duration": 0.101697,
     "end_time": "2021-04-10T16:28:42.012861",
     "exception": false,
     "start_time": "2021-04-10T16:28:41.911164",
     "status": "completed"
    },
    "tags": []
   },
   "source": [
    "## Current Loan Amount"
   ]
  },
  {
   "cell_type": "code",
   "execution_count": 53,
   "id": "legitimate-waters",
   "metadata": {
    "execution": {
     "iopub.execute_input": "2021-04-10T16:28:42.230797Z",
     "iopub.status.busy": "2021-04-10T16:28:42.229826Z",
     "iopub.status.idle": "2021-04-10T16:28:42.345352Z",
     "shell.execute_reply": "2021-04-10T16:28:42.344827Z"
    },
    "papermill": {
     "duration": 0.236579,
     "end_time": "2021-04-10T16:28:42.345505",
     "exception": false,
     "start_time": "2021-04-10T16:28:42.108926",
     "status": "completed"
    },
    "tags": []
   },
   "outputs": [
    {
     "data": {
      "image/png": "[encoded data removed]",
      "text/plain": [
       "<Figure size 432x288 with 1 Axes>"
      ]
     },
     "metadata": {
      "needs_background": "light"
     },
     "output_type": "display_data"
    }
   ],
   "source": [
    "plt.hist(df_train['Current Loan Amount'])\n",
    "plt.show()"
   ]
  },
  {
   "cell_type": "code",
   "execution_count": 54,
   "id": "sacred-andrews",
   "metadata": {
    "execution": {
     "iopub.execute_input": "2021-04-10T16:28:42.560648Z",
     "iopub.status.busy": "2021-04-10T16:28:42.543629Z",
     "iopub.status.idle": "2021-04-10T16:28:42.694441Z",
     "shell.execute_reply": "2021-04-10T16:28:42.693897Z"
    },
    "papermill": {
     "duration": 0.252426,
     "end_time": "2021-04-10T16:28:42.694574",
     "exception": false,
     "start_time": "2021-04-10T16:28:42.442148",
     "status": "completed"
    },
    "tags": []
   },
   "outputs": [
    {
     "data": {
      "image/png": "[encoded data removed]",
      "text/plain": [
       "<Figure size 432x288 with 1 Axes>"
      ]
     },
     "metadata": {
      "needs_background": "light"
     },
     "output_type": "display_data"
    }
   ],
   "source": [
    "plt.hist(df_train.loc[df_train['Current Loan Amount'] < 1000000, 'Current Loan Amount'])\n",
    "plt.show()"
   ]
  },
  {
   "cell_type": "code",
   "execution_count": 55,
   "id": "exposed-dollar",
   "metadata": {
    "execution": {
     "iopub.execute_input": "2021-04-10T16:28:42.894223Z",
     "iopub.status.busy": "2021-04-10T16:28:42.893607Z",
     "iopub.status.idle": "2021-04-10T16:28:42.900780Z",
     "shell.execute_reply": "2021-04-10T16:28:42.900213Z"
    },
    "papermill": {
     "duration": 0.110293,
     "end_time": "2021-04-10T16:28:42.900932",
     "exception": false,
     "start_time": "2021-04-10T16:28:42.790639",
     "status": "completed"
    },
    "tags": []
   },
   "outputs": [
    {
     "data": {
      "text/plain": [
       "870"
      ]
     },
     "execution_count": 55,
     "metadata": {},
     "output_type": "execute_result"
    }
   ],
   "source": [
    "len(df_train.loc[df_train['Current Loan Amount'] > 1000000])"
   ]
  },
  {
   "cell_type": "code",
   "execution_count": 56,
   "id": "broke-victoria",
   "metadata": {
    "execution": {
     "iopub.execute_input": "2021-04-10T16:28:43.105074Z",
     "iopub.status.busy": "2021-04-10T16:28:43.101518Z",
     "iopub.status.idle": "2021-04-10T16:28:43.538404Z",
     "shell.execute_reply": "2021-04-10T16:28:43.537787Z"
    },
    "papermill": {
     "duration": 0.540407,
     "end_time": "2021-04-10T16:28:43.538575",
     "exception": false,
     "start_time": "2021-04-10T16:28:42.998168",
     "status": "completed"
    },
    "tags": []
   },
   "outputs": [
    {
     "name": "stdout",
     "output_type": "stream",
     "text": [
      "ShapiroResult(statistic=0.9398760199546814, pvalue=1.401298464324817e-45)\n",
      "MannwhitneyuResult(statistic=4375163.0, pvalue=2.2854679965680805e-08)\n"
     ]
    },
    {
     "data": {
      "image/png": "[encoded data removed]",
      "text/plain": [
       "<Figure size 1008x360 with 2 Axes>"
      ]
     },
     "metadata": {
      "needs_background": "light"
     },
     "output_type": "display_data"
    }
   ],
   "source": [
    "plot_feature_with_target_statisctics(df_train.loc[df_train['Current Loan Amount'] < 1000000], 'Current Loan Amount', 'Credit Default')"
   ]
  },
  {
   "cell_type": "markdown",
   "id": "reflected-thanksgiving",
   "metadata": {
    "papermill": {
     "duration": 0.100399,
     "end_time": "2021-04-10T16:28:43.738578",
     "exception": false,
     "start_time": "2021-04-10T16:28:43.638179",
     "status": "completed"
    },
    "tags": []
   },
   "source": [
    "Признак кажется достаточно полезным, но при этом имеется большое количество одинаковых выбросов == 99999999, согласно логике задачи, это что то вроде бесконечного кредита, можно либо посчитать их как выбросы или пропуски, либо приравнять максимальному значению."
   ]
  },
  {
   "cell_type": "markdown",
   "id": "alternate-pepper",
   "metadata": {
    "papermill": {
     "duration": 0.098108,
     "end_time": "2021-04-10T16:28:43.938663",
     "exception": false,
     "start_time": "2021-04-10T16:28:43.840555",
     "status": "completed"
    },
    "tags": []
   },
   "source": [
    "## Current Credit Balance"
   ]
  },
  {
   "cell_type": "code",
   "execution_count": 57,
   "id": "iraqi-likelihood",
   "metadata": {
    "execution": {
     "iopub.execute_input": "2021-04-10T16:28:44.142950Z",
     "iopub.status.busy": "2021-04-10T16:28:44.142262Z",
     "iopub.status.idle": "2021-04-10T16:28:44.284518Z",
     "shell.execute_reply": "2021-04-10T16:28:44.283818Z"
    },
    "papermill": {
     "duration": 0.247444,
     "end_time": "2021-04-10T16:28:44.284669",
     "exception": false,
     "start_time": "2021-04-10T16:28:44.037225",
     "status": "completed"
    },
    "tags": []
   },
   "outputs": [
    {
     "data": {
      "image/png": "[encoded data removed]",
      "text/plain": [
       "<Figure size 432x288 with 1 Axes>"
      ]
     },
     "metadata": {
      "needs_background": "light"
     },
     "output_type": "display_data"
    }
   ],
   "source": [
    "plt.hist(df_train.loc[df_train['Current Credit Balance'] < 1500000, 'Current Credit Balance'])\n",
    "plt.show()"
   ]
  },
  {
   "cell_type": "markdown",
   "id": "exceptional-delivery",
   "metadata": {
    "papermill": {
     "duration": 0.099461,
     "end_time": "2021-04-10T16:28:44.485267",
     "exception": false,
     "start_time": "2021-04-10T16:28:44.385806",
     "status": "completed"
    },
    "tags": []
   },
   "source": [
    "Значения более 1 200 000  кажутся выбросами"
   ]
  },
  {
   "cell_type": "markdown",
   "id": "hollow-russian",
   "metadata": {
    "papermill": {
     "duration": 0.101049,
     "end_time": "2021-04-10T16:28:44.686007",
     "exception": false,
     "start_time": "2021-04-10T16:28:44.584958",
     "status": "completed"
    },
    "tags": []
   },
   "source": [
    "## Monthly Debt"
   ]
  },
  {
   "cell_type": "code",
   "execution_count": 58,
   "id": "presidential-luxury",
   "metadata": {
    "execution": {
     "iopub.execute_input": "2021-04-10T16:28:44.912494Z",
     "iopub.status.busy": "2021-04-10T16:28:44.911618Z",
     "iopub.status.idle": "2021-04-10T16:28:45.036477Z",
     "shell.execute_reply": "2021-04-10T16:28:45.035709Z"
    },
    "papermill": {
     "duration": 0.250528,
     "end_time": "2021-04-10T16:28:45.036674",
     "exception": false,
     "start_time": "2021-04-10T16:28:44.786146",
     "status": "completed"
    },
    "tags": []
   },
   "outputs": [
    {
     "data": {
      "image/png": "[encoded data removed]",
      "text/plain": [
       "<Figure size 432x288 with 1 Axes>"
      ]
     },
     "metadata": {
      "needs_background": "light"
     },
     "output_type": "display_data"
    }
   ],
   "source": [
    "plt.hist(df_train['Monthly Debt'])\n",
    "plt.show()"
   ]
  },
  {
   "cell_type": "code",
   "execution_count": 59,
   "id": "defensive-float",
   "metadata": {
    "execution": {
     "iopub.execute_input": "2021-04-10T16:28:45.253475Z",
     "iopub.status.busy": "2021-04-10T16:28:45.252308Z",
     "iopub.status.idle": "2021-04-10T16:28:45.873998Z",
     "shell.execute_reply": "2021-04-10T16:28:45.873021Z"
    },
    "papermill": {
     "duration": 0.731199,
     "end_time": "2021-04-10T16:28:45.874231",
     "exception": false,
     "start_time": "2021-04-10T16:28:45.143032",
     "status": "completed"
    },
    "tags": []
   },
   "outputs": [
    {
     "name": "stdout",
     "output_type": "stream",
     "text": [
      "ShapiroResult(statistic=0.8937593698501587, pvalue=0.0)\n",
      "MannwhitneyuResult(statistic=5534935.5, pvalue=0.03183394406726229)\n"
     ]
    },
    {
     "data": {
      "image/png": "[encoded data removed]",
      "text/plain": [
       "<Figure size 1008x360 with 2 Axes>"
      ]
     },
     "metadata": {
      "needs_background": "light"
     },
     "output_type": "display_data"
    }
   ],
   "source": [
    "plot_feature_with_target_statisctics(df_train, 'Monthly Debt', 'Credit Default')"
   ]
  },
  {
   "cell_type": "code",
   "execution_count": 60,
   "id": "defensive-working",
   "metadata": {
    "execution": {
     "iopub.execute_input": "2021-04-10T16:28:46.086821Z",
     "iopub.status.busy": "2021-04-10T16:28:46.086143Z",
     "iopub.status.idle": "2021-04-10T16:28:46.090460Z",
     "shell.execute_reply": "2021-04-10T16:28:46.089755Z"
    },
    "papermill": {
     "duration": 0.113045,
     "end_time": "2021-04-10T16:28:46.090601",
     "exception": false,
     "start_time": "2021-04-10T16:28:45.977556",
     "status": "completed"
    },
    "tags": []
   },
   "outputs": [
    {
     "data": {
      "text/plain": [
       "17"
      ]
     },
     "execution_count": 60,
     "metadata": {},
     "output_type": "execute_result"
    }
   ],
   "source": [
    "len(df_train.loc[df_train['Monthly Debt'] > 80000])"
   ]
  },
  {
   "cell_type": "markdown",
   "id": "entire-london",
   "metadata": {
    "papermill": {
     "duration": 0.102676,
     "end_time": "2021-04-10T16:28:46.294307",
     "exception": false,
     "start_time": "2021-04-10T16:28:46.191631",
     "status": "completed"
    },
    "tags": []
   },
   "source": [
    "Значения более 70-80 тыс кажутся выбросами"
   ]
  },
  {
   "cell_type": "markdown",
   "id": "compliant-antarctica",
   "metadata": {
    "papermill": {
     "duration": 0.102822,
     "end_time": "2021-04-10T16:28:46.499788",
     "exception": false,
     "start_time": "2021-04-10T16:28:46.396966",
     "status": "completed"
    },
    "tags": []
   },
   "source": [
    "## Credit score"
   ]
  },
  {
   "cell_type": "code",
   "execution_count": 61,
   "id": "beginning-effort",
   "metadata": {
    "execution": {
     "iopub.execute_input": "2021-04-10T16:28:46.727292Z",
     "iopub.status.busy": "2021-04-10T16:28:46.726658Z",
     "iopub.status.idle": "2021-04-10T16:28:47.063104Z",
     "shell.execute_reply": "2021-04-10T16:28:47.062611Z"
    },
    "papermill": {
     "duration": 0.462165,
     "end_time": "2021-04-10T16:28:47.063274",
     "exception": false,
     "start_time": "2021-04-10T16:28:46.601109",
     "status": "completed"
    },
    "tags": []
   },
   "outputs": [
    {
     "data": {
      "image/png": "[encoded data removed]",
      "text/plain": [
       "<Figure size 432x288 with 1 Axes>"
      ]
     },
     "metadata": {
      "needs_background": "light"
     },
     "output_type": "display_data"
    }
   ],
   "source": [
    "plt.hist(df_train['Credit Score'], bins=20, log=True)\n",
    "plt.show()"
   ]
  },
  {
   "cell_type": "code",
   "execution_count": 62,
   "id": "human-liverpool",
   "metadata": {
    "execution": {
     "iopub.execute_input": "2021-04-10T16:28:47.285812Z",
     "iopub.status.busy": "2021-04-10T16:28:47.285177Z",
     "iopub.status.idle": "2021-04-10T16:28:47.289015Z",
     "shell.execute_reply": "2021-04-10T16:28:47.288441Z"
    },
    "papermill": {
     "duration": 0.122248,
     "end_time": "2021-04-10T16:28:47.289152",
     "exception": false,
     "start_time": "2021-04-10T16:28:47.166904",
     "status": "completed"
    },
    "tags": []
   },
   "outputs": [
    {
     "data": {
      "text/html": [
       "<div>\n",
       "<style scoped>\n",
       "    .dataframe tbody tr th:only-of-type {\n",
       "        vertical-align: middle;\n",
       "    }\n",
       "\n",
       "    .dataframe tbody tr th {\n",
       "        vertical-align: top;\n",
       "    }\n",
       "\n",
       "    .dataframe thead th {\n",
       "        text-align: right;\n",
       "    }\n",
       "</style>\n",
       "<table border=\"1\" class=\"dataframe\">\n",
       "  <thead>\n",
       "    <tr style=\"text-align: right;\">\n",
       "      <th></th>\n",
       "      <th>Home Ownership</th>\n",
       "      <th>Annual Income</th>\n",
       "      <th>Years in current job</th>\n",
       "      <th>Tax Liens</th>\n",
       "      <th>Number of Open Accounts</th>\n",
       "      <th>Years of Credit History</th>\n",
       "      <th>Maximum Open Credit</th>\n",
       "      <th>Number of Credit Problems</th>\n",
       "      <th>Months since last delinquent</th>\n",
       "      <th>Bankruptcies</th>\n",
       "      <th>Purpose</th>\n",
       "      <th>Term</th>\n",
       "      <th>Current Loan Amount</th>\n",
       "      <th>Current Credit Balance</th>\n",
       "      <th>Monthly Debt</th>\n",
       "      <th>Credit Score</th>\n",
       "      <th>Credit Default</th>\n",
       "      <th>Years in current job num</th>\n",
       "      <th>merged_purpose</th>\n",
       "    </tr>\n",
       "  </thead>\n",
       "  <tbody>\n",
       "  </tbody>\n",
       "</table>\n",
       "</div>"
      ],
      "text/plain": [
       "Empty DataFrame\n",
       "Columns: [Home Ownership, Annual Income, Years in current job, Tax Liens, Number of Open Accounts, Years of Credit History, Maximum Open Credit, Number of Credit Problems, Months since last delinquent, Bankruptcies, Purpose, Term, Current Loan Amount, Current Credit Balance, Monthly Debt, Credit Score, Credit Default, Years in current job num, merged_purpose]\n",
       "Index: []"
      ]
     },
     "execution_count": 62,
     "metadata": {},
     "output_type": "execute_result"
    }
   ],
   "source": [
    "df_train.loc[df_train['Credit Score'].between(1000, 6000)]"
   ]
  },
  {
   "cell_type": "code",
   "execution_count": 63,
   "id": "unlimited-hometown",
   "metadata": {
    "execution": {
     "iopub.execute_input": "2021-04-10T16:28:47.536164Z",
     "iopub.status.busy": "2021-04-10T16:28:47.521040Z",
     "iopub.status.idle": "2021-04-10T16:28:47.690831Z",
     "shell.execute_reply": "2021-04-10T16:28:47.690267Z"
    },
    "papermill": {
     "duration": 0.292546,
     "end_time": "2021-04-10T16:28:47.690975",
     "exception": false,
     "start_time": "2021-04-10T16:28:47.398429",
     "status": "completed"
    },
    "tags": []
   },
   "outputs": [
    {
     "data": {
      "image/png": "[encoded data removed]",
      "text/plain": [
       "<Figure size 432x288 with 1 Axes>"
      ]
     },
     "metadata": {
      "needs_background": "light"
     },
     "output_type": "display_data"
    }
   ],
   "source": [
    "plt.hist(df_train.loc[df_train['Credit Score'] > 1000, 'Credit Score'], bins=20)\n",
    "plt.show()"
   ]
  },
  {
   "cell_type": "code",
   "execution_count": 64,
   "id": "pressing-tokyo",
   "metadata": {
    "execution": {
     "iopub.execute_input": "2021-04-10T16:28:47.910960Z",
     "iopub.status.busy": "2021-04-10T16:28:47.910225Z",
     "iopub.status.idle": "2021-04-10T16:28:48.321768Z",
     "shell.execute_reply": "2021-04-10T16:28:48.322393Z"
    },
    "papermill": {
     "duration": 0.525611,
     "end_time": "2021-04-10T16:28:48.322567",
     "exception": false,
     "start_time": "2021-04-10T16:28:47.796956",
     "status": "completed"
    },
    "tags": []
   },
   "outputs": [
    {
     "name": "stdout",
     "output_type": "stream",
     "text": [
      "ShapiroResult(statistic=nan, pvalue=1.0)\n",
      "MannwhitneyuResult(statistic=5197665.0, pvalue=2.4094608408145815e-09)\n"
     ]
    },
    {
     "data": {
      "image/png": "[encoded data removed]",
      "text/plain": [
       "<Figure size 1008x360 with 2 Axes>"
      ]
     },
     "metadata": {
      "needs_background": "light"
     },
     "output_type": "display_data"
    }
   ],
   "source": [
    "plot_feature_with_target_statisctics(df_train, 'Credit Score', 'Credit Default')"
   ]
  },
  {
   "cell_type": "markdown",
   "id": "major-papua",
   "metadata": {
    "papermill": {
     "duration": 0.107215,
     "end_time": "2021-04-10T16:28:48.537724",
     "exception": false,
     "start_time": "2021-04-10T16:28:48.430509",
     "status": "completed"
    },
    "tags": []
   },
   "source": [
    "Большой провал в величинах от 1000 до 6000, в признаке очень много нулей и пропусков, \n",
    "при этом признак хорошо скоррелирован с целевой переменной и кажется полезным.\n",
    "Кажется логичным прировнять пропуски нулю. Можно также попробовать все значения кредитного счета больше 6000 сместить на 5000"
   ]
  },
  {
   "cell_type": "markdown",
   "id": "controversial-basement",
   "metadata": {
    "papermill": {
     "duration": 0.108948,
     "end_time": "2021-04-10T16:28:48.757880",
     "exception": false,
     "start_time": "2021-04-10T16:28:48.648932",
     "status": "completed"
    },
    "tags": []
   },
   "source": [
    "# Data Preprocessing"
   ]
  },
  {
   "cell_type": "code",
   "execution_count": 65,
   "id": "overall-marsh",
   "metadata": {
    "execution": {
     "iopub.execute_input": "2021-04-10T16:28:48.993153Z",
     "iopub.status.busy": "2021-04-10T16:28:48.992403Z",
     "iopub.status.idle": "2021-04-10T16:28:48.996829Z",
     "shell.execute_reply": "2021-04-10T16:28:48.996355Z"
    },
    "papermill": {
     "duration": 0.130387,
     "end_time": "2021-04-10T16:28:48.996965",
     "exception": false,
     "start_time": "2021-04-10T16:28:48.866578",
     "status": "completed"
    },
    "tags": []
   },
   "outputs": [],
   "source": [
    "class DataPreprocessing:\n",
    "\n",
    "    def __init__(self):\n",
    "        self.medians = None\n",
    "        \n",
    "    def fit(self, X):  \n",
    "        self.medians = X.median()\n",
    "        self.modes = X.mode().iloc[0]\n",
    "        \n",
    "    def transform(self, X_input):\n",
    "        X = X_input.copy(deep=True)\n",
    "        \n",
    "        # Home Ownership\n",
    "        X = pd.concat([X, pd.get_dummies(X['Home Ownership'], prefix='Ownership')], axis=1)\n",
    "        X.drop(['Home Ownership'], axis=1, inplace=True)\n",
    "        \n",
    "        # Annual Income\n",
    "        X['Bad Annual Income'] = 0\n",
    "        X.loc[X['Annual Income'].isna() | X['Annual Income'] > 4000000, 'Bad Annual Income'] = 1\n",
    "        X.loc[X['Annual Income'] > 4000000, 'Annual Income'] = self.medians['Annual Income']\n",
    "        X.loc[X['Annual Income'].isna(), 'Annual Income'] = self.medians['Annual Income']\n",
    "        \n",
    "        \n",
    "        # Years in current job\n",
    "        X.loc[X['Years in current job'] == '< 1 year', 'Years in current job'] = '0 years'\n",
    "        X.loc[X['Years in current job'].isna(), 'Years in current job'] = '-1 years'\n",
    "        X['Years in current job num'] = X['Years in current job'].str.extract('(-?\\d+)').astype(int) + 1\n",
    "        X.drop(['Years in current job'], axis=1, inplace=True)\n",
    "        \n",
    "        # Tax Liens\n",
    "        X.loc[X['Tax Liens'].isna(), 'Tax Liens'] = self.modes['Tax Liens']\n",
    "        X['Has_Liens'] = 0\n",
    "        X.loc[X['Tax Liens'] > 0.5, 'Has_Liens'] = 1\n",
    "        \n",
    "        # Number of Open Accounts\n",
    "        X.loc[X['Number of Open Accounts'] > 30, \n",
    "              'Number of Open Accounts'] = self.medians['Number of Open Accounts']\n",
    "        \n",
    "        # Years of Credit History \n",
    "        X.loc[X['Years of Credit History'] > 50, \n",
    "                     'Years of Credit History'] = self.medians['Years of Credit History']\n",
    "        \n",
    "        #Maximum Open Credit\n",
    "        X.loc[X['Maximum Open Credit'] > 4000000,\n",
    "                     'Maximum Open Credit'] = self.medians['Maximum Open Credit']\n",
    "        \n",
    "        # Number of Credit Problems\n",
    "        X.loc[X['Number of Credit Problems'] > 5,\n",
    "                     'Number of Credit Problems'] = 5\n",
    "        \n",
    "        #Months since last delinquent (можно попробовать также 85 заменить на Max)\n",
    "        X.loc[X['Months since last delinquent'] > 85, 'Months since last delinquent'] = 85\n",
    "        X.loc[X['Months since last delinquent'].isna(),'Months since last delinquent'] = 85\n",
    "        \n",
    "        # Bankrupticies\n",
    "        # X.loc[df_train['Bankruptcies'].isna(), 'Bankruptcies'] = 0\n",
    "        X.drop(['Bankruptcies'], axis=1, inplace=True)\n",
    "        \n",
    "        # Purpose\n",
    "        X['Purpose'].fillna(self.modes['Purpose'])\n",
    "        # X = pd.concat([X, pd.get_dummies(X['Purpose'])], axis=1)\n",
    "        X.loc[X['Purpose'].isin(['debt consolidation', 'other', 'home improvements', 'take a trip',\n",
    "                              'buy a car','buy house', 'medical bills']), 'merged_purpose'] = 0\n",
    "        X.loc[X['Purpose'].isin(['wedding', 'educational expenses','moving',\n",
    "                                  'major purchase', 'vacation']), 'merged_purpose'] = 1\n",
    "        X.loc[X['Purpose'].isin(['small business', 'business loan', \n",
    "                                   'renewable energy']), 'merged_purpose'] = 2\n",
    "        X.drop(['Purpose'], axis=1, inplace=True)\n",
    "        \n",
    "        # Term\n",
    "        X = pd.concat([X, pd.get_dummies(X['Term'])], axis=1)\n",
    "        X.drop(['Term'], axis=1, inplace=True)\n",
    "             \n",
    "        # Current Credit Balance\n",
    "        X.loc[X['Current Credit Balance'] > 1500000, \n",
    "              'Current Credit Balance'] = self.medians['Current Credit Balance']\n",
    "        \n",
    "        # Credit Score\n",
    "        X.loc[X['Credit Score'].isna(),'Credit Score'] = self.medians['Credit Score']\n",
    "        \n",
    "        X.fillna(self.medians, inplace=True)\n",
    "        return X"
   ]
  },
  {
   "cell_type": "markdown",
   "id": "constant-draft",
   "metadata": {
    "papermill": {
     "duration": 0.10981,
     "end_time": "2021-04-10T16:28:49.214866",
     "exception": false,
     "start_time": "2021-04-10T16:28:49.105056",
     "status": "completed"
    },
    "tags": []
   },
   "source": [
    "# BASELINE"
   ]
  },
  {
   "cell_type": "code",
   "execution_count": 66,
   "id": "compressed-batch",
   "metadata": {
    "execution": {
     "iopub.execute_input": "2021-04-10T16:28:49.439985Z",
     "iopub.status.busy": "2021-04-10T16:28:49.439310Z",
     "iopub.status.idle": "2021-04-10T16:28:49.443178Z",
     "shell.execute_reply": "2021-04-10T16:28:49.442549Z"
    },
    "papermill": {
     "duration": 0.121042,
     "end_time": "2021-04-10T16:28:49.443326",
     "exception": false,
     "start_time": "2021-04-10T16:28:49.322284",
     "status": "completed"
    },
    "tags": []
   },
   "outputs": [],
   "source": [
    "class DataPreprocessing_baseline:\n",
    "\n",
    "    def __init__(self):\n",
    "        self.medians = None\n",
    "        \n",
    "    def fit(self, X):  \n",
    "        self.medians = X.median()\n",
    "        \n",
    "    def transform(self, X_input):\n",
    "        \n",
    "        X = X_input.copy(deep=True)\n",
    "        # Заполняем пропуски\n",
    "        X.loc[df_train['Annual Income'].isna(), 'Annual Income'] = X['Annual Income'].median()\n",
    "        X.loc[df_train['Bankruptcies'].isna(), 'Bankruptcies'] = X['Bankruptcies'].median()   \n",
    "        X.loc[df_train['Credit Score'].isna(), 'Credit Score'] = X['Credit Score'].mean()\n",
    "        X.drop(['Months since last delinquent'], axis=1, inplace=True)\n",
    "        \n",
    "        # Term\n",
    "        X = pd.concat([X, pd.get_dummies(X['Term'])], axis=1)\n",
    "        X.drop(['Term'], axis=1, inplace=True)\n",
    "    \n",
    "        # Years in current job\n",
    "        X.loc[X['Years in current job'] == '< 1 year', 'Years in current job'] = '0 years'\n",
    "        X.loc[X['Years in current job'].isna(), 'Years in current job'] = '-1 years'\n",
    "        X['Years in current job num'] = X['Years in current job'].str.extract('(-?\\d+)').astype(int) + 1\n",
    "        X.drop(['Years in current job'], axis=1, inplace=True)\n",
    "        \n",
    "        # Home Ownership\n",
    "        X = pd.concat([X, pd.get_dummies(X['Home Ownership'], prefix='Ownership')], axis=1)\n",
    "        X.drop(['Home Ownership'], axis=1, inplace=True)\n",
    "        \n",
    "        # Purpose\n",
    "        X = pd.concat([X, pd.get_dummies(X['Purpose'], prefix='Purpose')], axis=1)\n",
    "        X.drop(['Purpose'], axis=1, inplace=True)\n",
    "        \n",
    "        X.fillna(self.medians, inplace=True)\n",
    "        return X"
   ]
  },
  {
   "cell_type": "markdown",
   "id": "based-penetration",
   "metadata": {
    "papermill": {
     "duration": 0.10808,
     "end_time": "2021-04-10T16:28:49.658728",
     "exception": false,
     "start_time": "2021-04-10T16:28:49.550648",
     "status": "completed"
    },
    "tags": []
   },
   "source": [
    "# Генерация фич"
   ]
  },
  {
   "cell_type": "code",
   "execution_count": 67,
   "id": "grateful-kinase",
   "metadata": {
    "execution": {
     "iopub.execute_input": "2021-04-10T16:28:49.906234Z",
     "iopub.status.busy": "2021-04-10T16:28:49.905490Z",
     "iopub.status.idle": "2021-04-10T16:28:50.029699Z",
     "shell.execute_reply": "2021-04-10T16:28:50.028945Z"
    },
    "papermill": {
     "duration": 0.263355,
     "end_time": "2021-04-10T16:28:50.029926",
     "exception": false,
     "start_time": "2021-04-10T16:28:49.766571",
     "status": "completed"
    },
    "tags": []
   },
   "outputs": [],
   "source": [
    "df_train = pd.read_csv(TRAIN_DATASET_PATH, sep=\",\")\n",
    "preprocessor = DataPreprocessing()\n",
    "preprocessor.fit(df_train)\n",
    "df_train_EDA = preprocessor.transform(df_train)"
   ]
  },
  {
   "cell_type": "code",
   "execution_count": 68,
   "id": "oriental-fundamental",
   "metadata": {
    "execution": {
     "iopub.execute_input": "2021-04-10T16:28:50.360381Z",
     "iopub.status.busy": "2021-04-10T16:28:50.359628Z",
     "iopub.status.idle": "2021-04-10T16:28:50.366604Z",
     "shell.execute_reply": "2021-04-10T16:28:50.367137Z"
    },
    "papermill": {
     "duration": 0.200667,
     "end_time": "2021-04-10T16:28:50.367333",
     "exception": false,
     "start_time": "2021-04-10T16:28:50.166666",
     "status": "completed"
    },
    "tags": []
   },
   "outputs": [],
   "source": [
    "def income_to_cat(df):\n",
    "    train_income_max = df['Annual Income'].max()\n",
    "    bins = [0, 500000, 1000000, 2000000, 3000000, train_income_max]\n",
    "    df['income_cat'] = pd.cut(df['Annual Income'], bins=bins, labels=False)\n",
    "    df['income_cat'].fillna(-1, inplace=True)\n",
    "    return df"
   ]
  },
  {
   "cell_type": "code",
   "execution_count": 69,
   "id": "roman-feedback",
   "metadata": {
    "execution": {
     "iopub.execute_input": "2021-04-10T16:28:50.588110Z",
     "iopub.status.busy": "2021-04-10T16:28:50.587382Z",
     "iopub.status.idle": "2021-04-10T16:28:50.599347Z",
     "shell.execute_reply": "2021-04-10T16:28:50.599992Z"
    },
    "papermill": {
     "duration": 0.124233,
     "end_time": "2021-04-10T16:28:50.600189",
     "exception": false,
     "start_time": "2021-04-10T16:28:50.475956",
     "status": "completed"
    },
    "tags": []
   },
   "outputs": [
    {
     "data": {
      "text/plain": [
       "2    4514\n",
       "1    1974\n",
       "3     620\n",
       "0     258\n",
       "4     134\n",
       "Name: income_cat, dtype: int64"
      ]
     },
     "execution_count": 69,
     "metadata": {},
     "output_type": "execute_result"
    }
   ],
   "source": [
    "df_train_EDA = income_to_cat(df_train_EDA)\n",
    "df_train_EDA['income_cat'].value_counts()"
   ]
  },
  {
   "cell_type": "code",
   "execution_count": 70,
   "id": "swiss-aruba",
   "metadata": {
    "execution": {
     "iopub.execute_input": "2021-04-10T16:28:50.823629Z",
     "iopub.status.busy": "2021-04-10T16:28:50.823047Z",
     "iopub.status.idle": "2021-04-10T16:28:50.968091Z",
     "shell.execute_reply": "2021-04-10T16:28:50.968593Z"
    },
    "papermill": {
     "duration": 0.257996,
     "end_time": "2021-04-10T16:28:50.968796",
     "exception": false,
     "start_time": "2021-04-10T16:28:50.710800",
     "status": "completed"
    },
    "tags": []
   },
   "outputs": [
    {
     "data": {
      "image/png": "[encoded data removed]",
      "text/plain": [
       "<Figure size 432x288 with 1 Axes>"
      ]
     },
     "metadata": {
      "needs_background": "light"
     },
     "output_type": "display_data"
    }
   ],
   "source": [
    "df_train_EDA['month_income_to_debt'] = (df_train_EDA['Annual Income'] / 12).sub(df_train_EDA['Monthly Debt'])\n",
    "plt.hist(df_train_EDA['month_income_to_debt'])\n",
    "plt.show()"
   ]
  },
  {
   "cell_type": "code",
   "execution_count": 71,
   "id": "silent-consciousness",
   "metadata": {
    "execution": {
     "iopub.execute_input": "2021-04-10T16:28:51.196950Z",
     "iopub.status.busy": "2021-04-10T16:28:51.196147Z",
     "iopub.status.idle": "2021-04-10T16:28:51.203019Z",
     "shell.execute_reply": "2021-04-10T16:28:51.202468Z"
    },
    "papermill": {
     "duration": 0.120895,
     "end_time": "2021-04-10T16:28:51.203159",
     "exception": false,
     "start_time": "2021-04-10T16:28:51.082264",
     "status": "completed"
    },
    "tags": []
   },
   "outputs": [],
   "source": [
    "class Feature_generator:\n",
    "    def transform(self, df):\n",
    "        train_income_max = df['Annual Income'].max()\n",
    "        bins = [0, 500000, 1000000, 2000000, 3000000, train_income_max]\n",
    "        df['income_cat'] = pd.cut(df['Annual Income'], bins=bins, labels=False)\n",
    "        df['income_cat'].fillna(-1, inplace=True)\n",
    "        \n",
    "        df_train_EDA['month_income_to_debt'] = (df_train_EDA['Annual Income'] / 12).sub(df_train_EDA['Monthly Debt'])\n",
    "        return df"
   ]
  },
  {
   "cell_type": "markdown",
   "id": "sixth-atlantic",
   "metadata": {
    "papermill": {
     "duration": 0.108347,
     "end_time": "2021-04-10T16:28:51.420325",
     "exception": false,
     "start_time": "2021-04-10T16:28:51.311978",
     "status": "completed"
    },
    "tags": []
   },
   "source": [
    "### Перебор моделей"
   ]
  },
  {
   "cell_type": "code",
   "execution_count": 72,
   "id": "authentic-marketing",
   "metadata": {
    "execution": {
     "iopub.execute_input": "2021-04-10T16:28:51.650428Z",
     "iopub.status.busy": "2021-04-10T16:28:51.649789Z",
     "iopub.status.idle": "2021-04-10T16:28:51.653036Z",
     "shell.execute_reply": "2021-04-10T16:28:51.653465Z"
    },
    "papermill": {
     "duration": 0.124672,
     "end_time": "2021-04-10T16:28:51.653702",
     "exception": false,
     "start_time": "2021-04-10T16:28:51.529030",
     "status": "completed"
    },
    "tags": []
   },
   "outputs": [],
   "source": [
    "def init_models():\n",
    "    model_lr = LogisticRegression(random_state=21)\n",
    "    model_knn = KNeighborsClassifier()\n",
    "    model_tree = DecisionTreeClassifier(random_state=21, class_weight={0:1, 1:2.55}, max_depth=6)\n",
    "    model_xgb = xgb.XGBClassifier(random_state=21, max_depth=2, n_estimators=100)\n",
    "    model_lgbm = lgbm.LGBMClassifier(random_state=21, class_weight={0:1, 1:2.55}, max_depth=2)\n",
    "    model_catb = catb.CatBoostClassifier(random_state=21, silent=True)\n",
    "    models = {'lr': model_lr,\n",
    "              'knn': model_knn,\n",
    "              'tree': model_tree,\n",
    "              'xgb': model_xgb,\n",
    "              'lgbm': model_lgbm,\n",
    "              'catb': model_catb,\n",
    "             }\n",
    "    return models\n",
    "\n",
    "def get_metrics(report):\n",
    "    f1_macro = report['macro avg']['f1-score']\n",
    "    f1_0 = report['0']['f1-score']\n",
    "    f1_1 = report['1']['f1-score']\n",
    "    return f1_macro, f1_0, f1_1\n",
    "\n",
    "def fit_models(df):\n",
    "    # Determine features\n",
    "    TARGET_NAME = 'Credit Default'\n",
    "    TRAIN_FEATURE_NAMES = [name for name in df if name != TARGET_NAME]\n",
    "    \n",
    "    # scale numeric features\n",
    "    scaler = StandardScaler()\n",
    "    df[TRAIN_FEATURE_NAMES] = scaler.fit_transform(df[TRAIN_FEATURE_NAMES])\n",
    "\n",
    "    # train-test split\n",
    "    X = df[TRAIN_FEATURE_NAMES]\n",
    "    y = df[TARGET_NAME]\n",
    "    X_train, X_test, y_train, y_test = train_test_split(X, y, \n",
    "                                                        test_size = 0.2, \n",
    "                                                        shuffle=True, \n",
    "                                                        random_state = 42,\n",
    "                                                        stratify=y)\n",
    "    \n",
    "    models = init_models()\n",
    "    output_statistic = pd.DataFrame()\n",
    "    for name, model in models.items():\n",
    "        model.fit(X_train, y_train)\n",
    "        y_train_pred = model.predict(X_train)\n",
    "        y_test_pred = model.predict(X_test)\n",
    "        \n",
    "        report_train = classification_report(y_train, y_train_pred, output_dict=True)\n",
    "        report_test = classification_report(y_test, y_test_pred, output_dict=True)\n",
    "        f1_macro_train, f1_0_train, f1_1_train = get_metrics(report_train)\n",
    "        f1_macro_test, f1_0_test, f1_1_test = get_metrics(report_test)\n",
    "        overfiting_f1_macro = f1_macro_train - f1_macro_test\n",
    "        overfiting_f1_0 = f1_0_train - f1_0_test\n",
    "        overfiting_f1_1 = f1_1_train - f1_1_test\n",
    "        output_statistic = output_statistic.append({'model_name': name,\n",
    "                                                    'f1_macro_test': f1_macro_test,\n",
    "                                                    'f1_0_test': f1_0_test,\n",
    "                                                    'f1_1_test': f1_1_test,\n",
    "                                                    'overfiting_f1_macro': overfiting_f1_macro,\n",
    "                                                    'overfiting_f1_0': overfiting_f1_0,\n",
    "                                                    'overfiting_f1_1': overfiting_f1_1\n",
    "                                                    }, ignore_index=True)\n",
    "    return output_statistic, models"
   ]
  },
  {
   "cell_type": "markdown",
   "id": "infectious-ecuador",
   "metadata": {
    "papermill": {
     "duration": 0.109439,
     "end_time": "2021-04-10T16:28:51.872696",
     "exception": false,
     "start_time": "2021-04-10T16:28:51.763257",
     "status": "completed"
    },
    "tags": []
   },
   "source": [
    "### Обучение и оценка моделей"
   ]
  },
  {
   "cell_type": "code",
   "execution_count": 73,
   "id": "gentle-therapy",
   "metadata": {
    "execution": {
     "iopub.execute_input": "2021-04-10T16:28:52.100445Z",
     "iopub.status.busy": "2021-04-10T16:28:52.099821Z",
     "iopub.status.idle": "2021-04-10T16:28:52.123355Z",
     "shell.execute_reply": "2021-04-10T16:28:52.122785Z"
    },
    "papermill": {
     "duration": 0.140709,
     "end_time": "2021-04-10T16:28:52.123514",
     "exception": false,
     "start_time": "2021-04-10T16:28:51.982805",
     "status": "completed"
    },
    "tags": []
   },
   "outputs": [],
   "source": [
    "df_train = pd.read_csv(TRAIN_DATASET_PATH, sep=\",\")"
   ]
  },
  {
   "cell_type": "markdown",
   "id": "separated-yahoo",
   "metadata": {
    "papermill": {
     "duration": 0.112178,
     "end_time": "2021-04-10T16:28:52.343227",
     "exception": false,
     "start_time": "2021-04-10T16:28:52.231049",
     "status": "completed"
    },
    "tags": []
   },
   "source": [
    "## Обучение по baseline"
   ]
  },
  {
   "cell_type": "code",
   "execution_count": 74,
   "id": "formal-recall",
   "metadata": {
    "execution": {
     "iopub.execute_input": "2021-04-10T16:28:52.562632Z",
     "iopub.status.busy": "2021-04-10T16:28:52.562005Z",
     "iopub.status.idle": "2021-04-10T16:28:59.063696Z",
     "shell.execute_reply": "2021-04-10T16:28:59.062880Z"
    },
    "papermill": {
     "duration": 6.612442,
     "end_time": "2021-04-10T16:28:59.063847",
     "exception": false,
     "start_time": "2021-04-10T16:28:52.451405",
     "status": "completed"
    },
    "tags": []
   },
   "outputs": [
    {
     "name": "stdout",
     "output_type": "stream",
     "text": [
      "[16:28:54] WARNING: ../src/learner.cc:1061: Starting in XGBoost 1.3.0, the default evaluation metric used with the objective 'binary:logistic' was changed from 'error' to 'logloss'. Explicitly set eval_metric if you'd like to restore the old behavior.\n"
     ]
    },
    {
     "data": {
      "text/html": [
       "<div>\n",
       "<style scoped>\n",
       "    .dataframe tbody tr th:only-of-type {\n",
       "        vertical-align: middle;\n",
       "    }\n",
       "\n",
       "    .dataframe tbody tr th {\n",
       "        vertical-align: top;\n",
       "    }\n",
       "\n",
       "    .dataframe thead th {\n",
       "        text-align: right;\n",
       "    }\n",
       "</style>\n",
       "<table border=\"1\" class=\"dataframe\">\n",
       "  <thead>\n",
       "    <tr style=\"text-align: right;\">\n",
       "      <th></th>\n",
       "      <th>f1_0_test</th>\n",
       "      <th>f1_1_test</th>\n",
       "      <th>f1_macro_test</th>\n",
       "      <th>model_name</th>\n",
       "      <th>overfiting_f1_0</th>\n",
       "      <th>overfiting_f1_1</th>\n",
       "      <th>overfiting_f1_macro</th>\n",
       "    </tr>\n",
       "  </thead>\n",
       "  <tbody>\n",
       "    <tr>\n",
       "      <th>0</th>\n",
       "      <td>0.861883</td>\n",
       "      <td>0.434635</td>\n",
       "      <td>0.648259</td>\n",
       "      <td>lr</td>\n",
       "      <td>0.002587</td>\n",
       "      <td>-0.009307</td>\n",
       "      <td>-0.003360</td>\n",
       "    </tr>\n",
       "    <tr>\n",
       "      <th>1</th>\n",
       "      <td>0.819572</td>\n",
       "      <td>0.419128</td>\n",
       "      <td>0.619350</td>\n",
       "      <td>knn</td>\n",
       "      <td>0.060628</td>\n",
       "      <td>0.185956</td>\n",
       "      <td>0.123292</td>\n",
       "    </tr>\n",
       "    <tr>\n",
       "      <th>2</th>\n",
       "      <td>0.771358</td>\n",
       "      <td>0.525128</td>\n",
       "      <td>0.648243</td>\n",
       "      <td>tree</td>\n",
       "      <td>0.020390</td>\n",
       "      <td>0.026868</td>\n",
       "      <td>0.023629</td>\n",
       "    </tr>\n",
       "    <tr>\n",
       "      <th>3</th>\n",
       "      <td>0.858947</td>\n",
       "      <td>0.464000</td>\n",
       "      <td>0.661474</td>\n",
       "      <td>xgb</td>\n",
       "      <td>0.018994</td>\n",
       "      <td>0.057525</td>\n",
       "      <td>0.038260</td>\n",
       "    </tr>\n",
       "    <tr>\n",
       "      <th>4</th>\n",
       "      <td>0.778770</td>\n",
       "      <td>0.546748</td>\n",
       "      <td>0.662759</td>\n",
       "      <td>lgbm</td>\n",
       "      <td>0.027398</td>\n",
       "      <td>0.039459</td>\n",
       "      <td>0.033428</td>\n",
       "    </tr>\n",
       "    <tr>\n",
       "      <th>5</th>\n",
       "      <td>0.858467</td>\n",
       "      <td>0.463259</td>\n",
       "      <td>0.660863</td>\n",
       "      <td>catb</td>\n",
       "      <td>0.057253</td>\n",
       "      <td>0.242800</td>\n",
       "      <td>0.150026</td>\n",
       "    </tr>\n",
       "  </tbody>\n",
       "</table>\n",
       "</div>"
      ],
      "text/plain": [
       "   f1_0_test  f1_1_test  f1_macro_test model_name  overfiting_f1_0  \\\n",
       "0   0.861883   0.434635       0.648259         lr         0.002587   \n",
       "1   0.819572   0.419128       0.619350        knn         0.060628   \n",
       "2   0.771358   0.525128       0.648243       tree         0.020390   \n",
       "3   0.858947   0.464000       0.661474        xgb         0.018994   \n",
       "4   0.778770   0.546748       0.662759       lgbm         0.027398   \n",
       "5   0.858467   0.463259       0.660863       catb         0.057253   \n",
       "\n",
       "   overfiting_f1_1  overfiting_f1_macro  \n",
       "0        -0.009307            -0.003360  \n",
       "1         0.185956             0.123292  \n",
       "2         0.026868             0.023629  \n",
       "3         0.057525             0.038260  \n",
       "4         0.039459             0.033428  \n",
       "5         0.242800             0.150026  "
      ]
     },
     "execution_count": 74,
     "metadata": {},
     "output_type": "execute_result"
    }
   ],
   "source": [
    "preprocessor = DataPreprocessing_baseline()\n",
    "preprocessor.fit(df_train)\n",
    "df_train_baseline = preprocessor.transform(df_train)\n",
    "results, models = fit_models(df_train_baseline)\n",
    "results"
   ]
  },
  {
   "cell_type": "markdown",
   "id": "breeding-recorder",
   "metadata": {
    "papermill": {
     "duration": 0.111636,
     "end_time": "2021-04-10T16:28:59.287146",
     "exception": false,
     "start_time": "2021-04-10T16:28:59.175510",
     "status": "completed"
    },
    "tags": []
   },
   "source": [
    "## Обучение с учетом анализа данных и отбор признаков"
   ]
  },
  {
   "cell_type": "code",
   "execution_count": 75,
   "id": "surprised-livestock",
   "metadata": {
    "execution": {
     "iopub.execute_input": "2021-04-10T16:28:59.512305Z",
     "iopub.status.busy": "2021-04-10T16:28:59.511713Z",
     "iopub.status.idle": "2021-04-10T16:28:59.599799Z",
     "shell.execute_reply": "2021-04-10T16:28:59.599132Z"
    },
    "papermill": {
     "duration": 0.202703,
     "end_time": "2021-04-10T16:28:59.599940",
     "exception": false,
     "start_time": "2021-04-10T16:28:59.397237",
     "status": "completed"
    },
    "tags": []
   },
   "outputs": [],
   "source": [
    "df_train = pd.read_csv(TRAIN_DATASET_PATH, sep=\",\")\n",
    "preprocessor = DataPreprocessing()\n",
    "preprocessor.fit(df_train)\n",
    "df_train_EDA = preprocessor.transform(df_train)\n",
    "feature_gen = Feature_generator()\n",
    "df_train_EDA = feature_gen.transform(df_train_EDA)\n",
    "# df_train_EDA.columns.to_list()"
   ]
  },
  {
   "cell_type": "code",
   "execution_count": 76,
   "id": "needed-metadata",
   "metadata": {
    "execution": {
     "iopub.execute_input": "2021-04-10T16:28:59.817595Z",
     "iopub.status.busy": "2021-04-10T16:28:59.816986Z",
     "iopub.status.idle": "2021-04-10T16:28:59.821316Z",
     "shell.execute_reply": "2021-04-10T16:28:59.821922Z"
    },
    "papermill": {
     "duration": 0.114561,
     "end_time": "2021-04-10T16:28:59.822093",
     "exception": false,
     "start_time": "2021-04-10T16:28:59.707532",
     "status": "completed"
    },
    "tags": []
   },
   "outputs": [],
   "source": [
    "FEATURES = ['Annual Income',\n",
    " #'Tax Liens',\n",
    " 'Number of Open Accounts',\n",
    " 'Years of Credit History',\n",
    " 'Maximum Open Credit',\n",
    " 'Number of Credit Problems',\n",
    " 'Months since last delinquent',\n",
    " 'Current Loan Amount',\n",
    " 'Current Credit Balance',\n",
    " 'Monthly Debt',\n",
    " 'Credit Score',\n",
    " 'Credit Default',\n",
    " 'Ownership_Have Mortgage',\n",
    " 'Ownership_Home Mortgage',\n",
    " 'Ownership_Own Home',\n",
    " 'Ownership_Rent',\n",
    " 'Bad Annual Income',\n",
    " 'Years in current job num',\n",
    " 'Has_Liens',\n",
    " 'merged_purpose',\n",
    " 'Long Term',\n",
    " #'Short Term',\n",
    " #'income_cat',\n",
    " #'month_income_to_debt'\n",
    "           ]"
   ]
  },
  {
   "cell_type": "code",
   "execution_count": 77,
   "id": "orange-moderator",
   "metadata": {
    "execution": {
     "iopub.execute_input": "2021-04-10T16:29:00.041135Z",
     "iopub.status.busy": "2021-04-10T16:29:00.040544Z",
     "iopub.status.idle": "2021-04-10T16:29:06.159803Z",
     "shell.execute_reply": "2021-04-10T16:29:06.159219Z"
    },
    "papermill": {
     "duration": 6.229602,
     "end_time": "2021-04-10T16:29:06.159952",
     "exception": false,
     "start_time": "2021-04-10T16:28:59.930350",
     "status": "completed"
    },
    "tags": []
   },
   "outputs": [
    {
     "name": "stdout",
     "output_type": "stream",
     "text": [
      "[16:29:01] WARNING: ../src/learner.cc:1061: Starting in XGBoost 1.3.0, the default evaluation metric used with the objective 'binary:logistic' was changed from 'error' to 'logloss'. Explicitly set eval_metric if you'd like to restore the old behavior.\n"
     ]
    },
    {
     "data": {
      "text/html": [
       "<div>\n",
       "<style scoped>\n",
       "    .dataframe tbody tr th:only-of-type {\n",
       "        vertical-align: middle;\n",
       "    }\n",
       "\n",
       "    .dataframe tbody tr th {\n",
       "        vertical-align: top;\n",
       "    }\n",
       "\n",
       "    .dataframe thead th {\n",
       "        text-align: right;\n",
       "    }\n",
       "</style>\n",
       "<table border=\"1\" class=\"dataframe\">\n",
       "  <thead>\n",
       "    <tr style=\"text-align: right;\">\n",
       "      <th></th>\n",
       "      <th>f1_0_test</th>\n",
       "      <th>f1_1_test</th>\n",
       "      <th>f1_macro_test</th>\n",
       "      <th>model_name</th>\n",
       "      <th>overfiting_f1_0</th>\n",
       "      <th>overfiting_f1_1</th>\n",
       "      <th>overfiting_f1_macro</th>\n",
       "    </tr>\n",
       "  </thead>\n",
       "  <tbody>\n",
       "    <tr>\n",
       "      <th>0</th>\n",
       "      <td>0.867707</td>\n",
       "      <td>0.431095</td>\n",
       "      <td>0.649401</td>\n",
       "      <td>lr</td>\n",
       "      <td>-0.006748</td>\n",
       "      <td>-0.027393</td>\n",
       "      <td>-0.017070</td>\n",
       "    </tr>\n",
       "    <tr>\n",
       "      <th>1</th>\n",
       "      <td>0.817460</td>\n",
       "      <td>0.434426</td>\n",
       "      <td>0.625943</td>\n",
       "      <td>knn</td>\n",
       "      <td>0.062210</td>\n",
       "      <td>0.168726</td>\n",
       "      <td>0.115468</td>\n",
       "    </tr>\n",
       "    <tr>\n",
       "      <th>2</th>\n",
       "      <td>0.777723</td>\n",
       "      <td>0.522560</td>\n",
       "      <td>0.650142</td>\n",
       "      <td>tree</td>\n",
       "      <td>0.024488</td>\n",
       "      <td>0.029914</td>\n",
       "      <td>0.027201</td>\n",
       "    </tr>\n",
       "    <tr>\n",
       "      <th>3</th>\n",
       "      <td>0.860877</td>\n",
       "      <td>0.474522</td>\n",
       "      <td>0.667700</td>\n",
       "      <td>xgb</td>\n",
       "      <td>0.017111</td>\n",
       "      <td>0.042220</td>\n",
       "      <td>0.029665</td>\n",
       "    </tr>\n",
       "    <tr>\n",
       "      <th>4</th>\n",
       "      <td>0.780149</td>\n",
       "      <td>0.550254</td>\n",
       "      <td>0.665201</td>\n",
       "      <td>lgbm</td>\n",
       "      <td>0.025020</td>\n",
       "      <td>0.041230</td>\n",
       "      <td>0.033125</td>\n",
       "    </tr>\n",
       "    <tr>\n",
       "      <th>5</th>\n",
       "      <td>0.856662</td>\n",
       "      <td>0.450886</td>\n",
       "      <td>0.653774</td>\n",
       "      <td>catb</td>\n",
       "      <td>0.062732</td>\n",
       "      <td>0.269204</td>\n",
       "      <td>0.165968</td>\n",
       "    </tr>\n",
       "  </tbody>\n",
       "</table>\n",
       "</div>"
      ],
      "text/plain": [
       "   f1_0_test  f1_1_test  f1_macro_test model_name  overfiting_f1_0  \\\n",
       "0   0.867707   0.431095       0.649401         lr        -0.006748   \n",
       "1   0.817460   0.434426       0.625943        knn         0.062210   \n",
       "2   0.777723   0.522560       0.650142       tree         0.024488   \n",
       "3   0.860877   0.474522       0.667700        xgb         0.017111   \n",
       "4   0.780149   0.550254       0.665201       lgbm         0.025020   \n",
       "5   0.856662   0.450886       0.653774       catb         0.062732   \n",
       "\n",
       "   overfiting_f1_1  overfiting_f1_macro  \n",
       "0        -0.027393            -0.017070  \n",
       "1         0.168726             0.115468  \n",
       "2         0.029914             0.027201  \n",
       "3         0.042220             0.029665  \n",
       "4         0.041230             0.033125  \n",
       "5         0.269204             0.165968  "
      ]
     },
     "execution_count": 77,
     "metadata": {},
     "output_type": "execute_result"
    }
   ],
   "source": [
    "results, models = fit_models(df_train_EDA[FEATURES])\n",
    "results"
   ]
  },
  {
   "cell_type": "markdown",
   "id": "historic-burke",
   "metadata": {
    "papermill": {
     "duration": 0.151907,
     "end_time": "2021-04-10T16:29:06.422538",
     "exception": false,
     "start_time": "2021-04-10T16:29:06.270631",
     "status": "completed"
    },
    "tags": []
   },
   "source": [
    "В качестве основной модели выберем xgboost, переберем различные методы балансировки классов"
   ]
  },
  {
   "cell_type": "code",
   "execution_count": 78,
   "id": "falling-seating",
   "metadata": {
    "execution": {
     "iopub.execute_input": "2021-04-10T16:29:06.647413Z",
     "iopub.status.busy": "2021-04-10T16:29:06.646468Z",
     "iopub.status.idle": "2021-04-10T16:29:06.656624Z",
     "shell.execute_reply": "2021-04-10T16:29:06.657126Z"
    },
    "papermill": {
     "duration": 0.123719,
     "end_time": "2021-04-10T16:29:06.657319",
     "exception": false,
     "start_time": "2021-04-10T16:29:06.533600",
     "status": "completed"
    },
    "tags": []
   },
   "outputs": [],
   "source": [
    "def balance_by_target(df, target_name, method):\n",
    "    assert method in ['over', 'under', 'tomek', 'smote'], 'неверный метод'\n",
    "    target_counts = df[target_name].value_counts()\n",
    "\n",
    "    major_class_name = target_counts.argmax()\n",
    "    minor_class_name = target_counts.argmin()\n",
    "    \n",
    "    disbalance_coef = int(target_counts[major_class_name] / target_counts[minor_class_name]) - 1\n",
    "    if method == 'over':\n",
    "        for i in range(disbalance_coef):\n",
    "            sample = df[df[target_name] == minor_class_name].sample(target_counts[minor_class_name])\n",
    "            df = df.append(sample, ignore_index=True)\n",
    "    elif method == 'under':\n",
    "        df_ = df.copy()\n",
    "        df = df_[df_[target_name] == minor_class_name]\n",
    "        tmp = df_[df_[target_name] == major_class_name]\n",
    "        rng = np.random.seed(21)\n",
    "        df = df.append(tmp.iloc[\n",
    "            np.random.randint(0, tmp.shape[0], target_counts[minor_class_name])\n",
    "        ], ignore_index=True)\n",
    "    elif method =='tomek':\n",
    "        from imblearn.under_sampling import TomekLinks\n",
    "        tl = TomekLinks()\n",
    "        X_tomek, y_tomek = tl.fit_resample(df.drop(columns=target_name), df[target_name])\n",
    "        df = pd.concat([X_tomek, y_tomek], axis=1)\n",
    "    elif method == 'smote':\n",
    "        from imblearn.over_sampling import SMOTE\n",
    "        smote = SMOTE(random_state=22)\n",
    "        x_smote, y_smote = smote.fit_resample(df.drop(columns=target_name), df[target_name])\n",
    "        df = pd.concat([x_smote, y_smote], axis=1)\n",
    "    return df.sample(frac=1)"
   ]
  },
  {
   "cell_type": "code",
   "execution_count": 79,
   "id": "recent-declaration",
   "metadata": {
    "execution": {
     "iopub.execute_input": "2021-04-10T16:29:06.882060Z",
     "iopub.status.busy": "2021-04-10T16:29:06.881213Z",
     "iopub.status.idle": "2021-04-10T16:29:07.012706Z",
     "shell.execute_reply": "2021-04-10T16:29:07.011110Z"
    },
    "papermill": {
     "duration": 0.247185,
     "end_time": "2021-04-10T16:29:07.012859",
     "exception": false,
     "start_time": "2021-04-10T16:29:06.765674",
     "status": "completed"
    },
    "tags": []
   },
   "outputs": [],
   "source": [
    "# Determine features\n",
    "TARGET_NAME = 'Credit Default'\n",
    "\n",
    "df_train = pd.read_csv(TRAIN_DATASET_PATH, sep=\",\")\n",
    "X = df_train[[name for name in df_train if name != TARGET_NAME]]\n",
    "y = df_train[TARGET_NAME]\n",
    "X_train, X_test, y_train, y_test = train_test_split(X, y, \n",
    "                                                    test_size = 0.2, \n",
    "                                                    shuffle=True, \n",
    "                                                    random_state = 42,\n",
    "                                                    stratify=y)\n",
    "preprocessor = DataPreprocessing()\n",
    "preprocessor.fit(X_train)\n",
    "X_train = preprocessor.transform(X_train)\n",
    "X_test = preprocessor.transform(X_test)\n",
    "\n",
    "#balancing\n",
    "df_for_balancing = pd.concat([X_train, y_train], axis=1)\n",
    "df_balanced = balance_by_target(df_for_balancing, TARGET_NAME, 'over')\n",
    "\n",
    "X_train = df_balanced.drop(columns=TARGET_NAME, axis=1)\n",
    "y_train = df_balanced[TARGET_NAME]\n",
    "\n",
    "# scale features\n",
    "# scaler = StandardScaler()\n",
    "# X_train[TRAIN_FEATURE_NAMES] = scaler.fit_transform(X_train[TRAIN_FEATURE_NAMES])\n",
    "# X_test[TRAIN_FEATURE_NAMES] = scaler.transform(X_test[TRAIN_FEATURE_NAMES])"
   ]
  },
  {
   "cell_type": "code",
   "execution_count": 80,
   "id": "chinese-blake",
   "metadata": {
    "execution": {
     "iopub.execute_input": "2021-04-10T16:29:07.236096Z",
     "iopub.status.busy": "2021-04-10T16:29:07.235431Z",
     "iopub.status.idle": "2021-04-10T16:29:07.455809Z",
     "shell.execute_reply": "2021-04-10T16:29:07.454997Z"
    },
    "papermill": {
     "duration": 0.333718,
     "end_time": "2021-04-10T16:29:07.455973",
     "exception": false,
     "start_time": "2021-04-10T16:29:07.122255",
     "status": "completed"
    },
    "tags": []
   },
   "outputs": [
    {
     "name": "stdout",
     "output_type": "stream",
     "text": [
      "[16:29:07] WARNING: ../src/learner.cc:1061: Starting in XGBoost 1.3.0, the default evaluation metric used with the objective 'binary:logistic' was changed from 'error' to 'logloss'. Explicitly set eval_metric if you'd like to restore the old behavior.\n",
      "TRAIN\n",
      "\n",
      "              precision    recall  f1-score   support\n",
      "\n",
      "           0       0.70      0.85      0.77      4310\n",
      "           1       0.74      0.52      0.61      3380\n",
      "\n",
      "    accuracy                           0.71      7690\n",
      "   macro avg       0.72      0.69      0.69      7690\n",
      "weighted avg       0.71      0.71      0.70      7690\n",
      "\n",
      "TEST\n",
      "\n",
      "              precision    recall  f1-score   support\n",
      "\n",
      "           0       0.81      0.82      0.81      1077\n",
      "           1       0.52      0.52      0.52       423\n",
      "\n",
      "    accuracy                           0.73      1500\n",
      "   macro avg       0.67      0.67      0.67      1500\n",
      "weighted avg       0.73      0.73      0.73      1500\n",
      "\n",
      "CONFUSION MATRIX\n",
      "\n",
      "col_0             0    1\n",
      "Credit Default          \n",
      "0               878  199\n",
      "1               204  219\n"
     ]
    }
   ],
   "source": [
    "model_xgb = xgb.XGBClassifier(random_state=21, max_depth=1, n_estimators=100, )\n",
    "model_xgb.fit(X_train, y_train)\n",
    "evaluate_preds(model_xgb, X_train, X_test, y_train, y_test)"
   ]
  },
  {
   "cell_type": "markdown",
   "id": "indian-finder",
   "metadata": {
    "papermill": {
     "duration": 0.108015,
     "end_time": "2021-04-10T16:29:07.673174",
     "exception": false,
     "start_time": "2021-04-10T16:29:07.565159",
     "status": "completed"
    },
    "tags": []
   },
   "source": [
    "Наилучшая метрика на тесте при применении smote на проявляется сильное переобучение поэтому выберем over"
   ]
  },
  {
   "cell_type": "code",
   "execution_count": 81,
   "id": "nervous-fitness",
   "metadata": {
    "execution": {
     "iopub.execute_input": "2021-04-10T16:29:07.895478Z",
     "iopub.status.busy": "2021-04-10T16:29:07.894831Z",
     "iopub.status.idle": "2021-04-10T16:29:07.914018Z",
     "shell.execute_reply": "2021-04-10T16:29:07.913421Z"
    },
    "papermill": {
     "duration": 0.132512,
     "end_time": "2021-04-10T16:29:07.914172",
     "exception": false,
     "start_time": "2021-04-10T16:29:07.781660",
     "status": "completed"
    },
    "tags": []
   },
   "outputs": [
    {
     "data": {
      "text/html": [
       "<div>\n",
       "<style scoped>\n",
       "    .dataframe tbody tr th:only-of-type {\n",
       "        vertical-align: middle;\n",
       "    }\n",
       "\n",
       "    .dataframe tbody tr th {\n",
       "        vertical-align: top;\n",
       "    }\n",
       "\n",
       "    .dataframe thead th {\n",
       "        text-align: right;\n",
       "    }\n",
       "</style>\n",
       "<table border=\"1\" class=\"dataframe\">\n",
       "  <thead>\n",
       "    <tr style=\"text-align: right;\">\n",
       "      <th></th>\n",
       "      <th>Id</th>\n",
       "      <th>Credit Default</th>\n",
       "    </tr>\n",
       "  </thead>\n",
       "  <tbody>\n",
       "    <tr>\n",
       "      <th>0</th>\n",
       "      <td>0</td>\n",
       "      <td>1</td>\n",
       "    </tr>\n",
       "    <tr>\n",
       "      <th>1</th>\n",
       "      <td>1</td>\n",
       "      <td>1</td>\n",
       "    </tr>\n",
       "    <tr>\n",
       "      <th>2</th>\n",
       "      <td>2</td>\n",
       "      <td>1</td>\n",
       "    </tr>\n",
       "    <tr>\n",
       "      <th>3</th>\n",
       "      <td>3</td>\n",
       "      <td>1</td>\n",
       "    </tr>\n",
       "    <tr>\n",
       "      <th>4</th>\n",
       "      <td>4</td>\n",
       "      <td>1</td>\n",
       "    </tr>\n",
       "  </tbody>\n",
       "</table>\n",
       "</div>"
      ],
      "text/plain": [
       "   Id  Credit Default\n",
       "0   0               1\n",
       "1   1               1\n",
       "2   2               1\n",
       "3   3               1\n",
       "4   4               1"
      ]
     },
     "execution_count": 81,
     "metadata": {},
     "output_type": "execute_result"
    }
   ],
   "source": [
    "submit = pd.read_csv('/kaggle/input/gb-credit-default/sample_submission.csv')\n",
    "submit.head(5)"
   ]
  },
  {
   "cell_type": "code",
   "execution_count": 82,
   "id": "passive-blake",
   "metadata": {
    "execution": {
     "iopub.execute_input": "2021-04-10T16:29:08.139279Z",
     "iopub.status.busy": "2021-04-10T16:29:08.138429Z",
     "iopub.status.idle": "2021-04-10T16:29:08.187381Z",
     "shell.execute_reply": "2021-04-10T16:29:08.186763Z"
    },
    "papermill": {
     "duration": 0.163186,
     "end_time": "2021-04-10T16:29:08.187541",
     "exception": false,
     "start_time": "2021-04-10T16:29:08.024355",
     "status": "completed"
    },
    "tags": []
   },
   "outputs": [],
   "source": [
    "df_test = pd.read_csv(TEST_DATASET_PATH, sep=\",\")\n",
    "df_test = preprocessor.transform(df_test)\n",
    "#df_test[TRAIN_FEATURE_NAMES] = scaler.transform(df_test[TRAIN_FEATURE_NAMES])\n",
    "prediction = model_xgb.predict(df_test)"
   ]
  },
  {
   "cell_type": "code",
   "execution_count": 83,
   "id": "forward-option",
   "metadata": {
    "execution": {
     "iopub.execute_input": "2021-04-10T16:29:08.423903Z",
     "iopub.status.busy": "2021-04-10T16:29:08.422552Z",
     "iopub.status.idle": "2021-04-10T16:29:08.428490Z",
     "shell.execute_reply": "2021-04-10T16:29:08.429052Z"
    },
    "papermill": {
     "duration": 0.13147,
     "end_time": "2021-04-10T16:29:08.429249",
     "exception": false,
     "start_time": "2021-04-10T16:29:08.297779",
     "status": "completed"
    },
    "tags": []
   },
   "outputs": [
    {
     "data": {
      "text/plain": [
       "2500"
      ]
     },
     "execution_count": 83,
     "metadata": {},
     "output_type": "execute_result"
    }
   ],
   "source": [
    "len(prediction)"
   ]
  },
  {
   "cell_type": "code",
   "execution_count": 84,
   "id": "radical-competition",
   "metadata": {
    "execution": {
     "iopub.execute_input": "2021-04-10T16:29:08.666517Z",
     "iopub.status.busy": "2021-04-10T16:29:08.662404Z",
     "iopub.status.idle": "2021-04-10T16:29:08.671693Z",
     "shell.execute_reply": "2021-04-10T16:29:08.671193Z"
    },
    "papermill": {
     "duration": 0.127925,
     "end_time": "2021-04-10T16:29:08.671833",
     "exception": false,
     "start_time": "2021-04-10T16:29:08.543908",
     "status": "completed"
    },
    "tags": []
   },
   "outputs": [
    {
     "data": {
      "text/html": [
       "<div>\n",
       "<style scoped>\n",
       "    .dataframe tbody tr th:only-of-type {\n",
       "        vertical-align: middle;\n",
       "    }\n",
       "\n",
       "    .dataframe tbody tr th {\n",
       "        vertical-align: top;\n",
       "    }\n",
       "\n",
       "    .dataframe thead th {\n",
       "        text-align: right;\n",
       "    }\n",
       "</style>\n",
       "<table border=\"1\" class=\"dataframe\">\n",
       "  <thead>\n",
       "    <tr style=\"text-align: right;\">\n",
       "      <th></th>\n",
       "      <th>Id</th>\n",
       "      <th>Credit Default</th>\n",
       "    </tr>\n",
       "  </thead>\n",
       "  <tbody>\n",
       "    <tr>\n",
       "      <th>0</th>\n",
       "      <td>0</td>\n",
       "      <td>0</td>\n",
       "    </tr>\n",
       "    <tr>\n",
       "      <th>1</th>\n",
       "      <td>1</td>\n",
       "      <td>1</td>\n",
       "    </tr>\n",
       "    <tr>\n",
       "      <th>2</th>\n",
       "      <td>2</td>\n",
       "      <td>1</td>\n",
       "    </tr>\n",
       "    <tr>\n",
       "      <th>3</th>\n",
       "      <td>3</td>\n",
       "      <td>0</td>\n",
       "    </tr>\n",
       "    <tr>\n",
       "      <th>4</th>\n",
       "      <td>4</td>\n",
       "      <td>0</td>\n",
       "    </tr>\n",
       "  </tbody>\n",
       "</table>\n",
       "</div>"
      ],
      "text/plain": [
       "   Id  Credit Default\n",
       "0   0               0\n",
       "1   1               1\n",
       "2   2               1\n",
       "3   3               0\n",
       "4   4               0"
      ]
     },
     "execution_count": 84,
     "metadata": {},
     "output_type": "execute_result"
    }
   ],
   "source": [
    "submit['Credit Default'] = prediction\n",
    "submit.head()"
   ]
  },
  {
   "cell_type": "code",
   "execution_count": 85,
   "id": "proud-nurse",
   "metadata": {
    "execution": {
     "iopub.execute_input": "2021-04-10T16:29:08.901717Z",
     "iopub.status.busy": "2021-04-10T16:29:08.901055Z",
     "iopub.status.idle": "2021-04-10T16:29:08.911149Z",
     "shell.execute_reply": "2021-04-10T16:29:08.910593Z"
    },
    "papermill": {
     "duration": 0.127965,
     "end_time": "2021-04-10T16:29:08.911305",
     "exception": false,
     "start_time": "2021-04-10T16:29:08.783340",
     "status": "completed"
    },
    "tags": []
   },
   "outputs": [],
   "source": [
    "submit.to_csv('rf_submit.csv', index=False)"
   ]
  }
 ],
 "metadata": {
  "kernelspec": {
   "display_name": "Python 3",
   "language": "python",
   "name": "python3"
  },
  "language_info": {
   "codemirror_mode": {
    "name": "ipython",
    "version": 3
   },
   "file_extension": ".py",
   "mimetype": "text/x-python",
   "name": "python",
   "nbconvert_exporter": "python",
   "pygments_lexer": "ipython3",
   "version": "3.7.9"
  },
  "papermill": {
   "default_parameters": {},
   "duration": 64.071115,
   "end_time": "2021-04-10T16:29:09.733580",
   "environment_variables": {},
   "exception": null,
   "input_path": "__notebook__.ipynb",
   "output_path": "__notebook__.ipynb",
   "parameters": {},
   "start_time": "2021-04-10T16:28:05.662465",
   "version": "2.3.2"
  }
 },
 "nbformat": 4,
 "nbformat_minor": 5
}
